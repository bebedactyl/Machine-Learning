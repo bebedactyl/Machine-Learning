{
 "cells": [
  {
   "cell_type": "markdown",
   "id": "6c324a5d",
   "metadata": {},
   "source": [
    "### COMP 4432 Maching Learning\n",
    "### Assignment 4\n",
    "### Megan Hoeksema"
   ]
  },
  {
   "cell_type": "markdown",
   "id": "8ac425fc",
   "metadata": {},
   "source": [
    "### Packages"
   ]
  },
  {
   "cell_type": "code",
   "execution_count": 275,
   "id": "17ee3abb",
   "metadata": {},
   "outputs": [],
   "source": [
    "import matplotlib.pyplot as plt\n",
    "%matplotlib inline\n",
    "import numpy as np\n",
    "import pandas as pd\n",
    "import seaborn as sns\n",
    "from sklearn.ensemble import RandomForestRegressor, BaggingRegressor\n",
    "from sklearn.linear_model import LinearRegression, SGDRegressor, Ridge, Lasso, ElasticNet\n",
    "from sklearn.metrics import mean_squared_error, r2_score\n",
    "from sklearn.model_selection import train_test_split, cross_val_score, RandomizedSearchCV\n",
    "from sklearn.preprocessing import StandardScaler\n",
    "from sklearn.tree import DecisionTreeRegressor"
   ]
  },
  {
   "cell_type": "markdown",
   "id": "f02762c9",
   "metadata": {},
   "source": [
    "### Assignment 4, Part 1: Data Exploration\n",
    "- Read in bike_share_hour.csv as a pandas dataframe. The columns are described in the bike_share_readme.txt if you need more information about them.\n",
    "- Look at the dataset, and convert the columns that are categorical to a pandas “category” type.\n",
    "- Look for non-null values in the dataset.\n",
    "- Do a descriptive analysis of the numeric columns.\n",
    "- Implement a bar plot of cnt versus season. Document which season has the most bike rides and which season has the least.\n",
    "- Implement a bar chart for working day versus count. Document how bike rides are distributed across these two classes.\n",
    "- Implement a bar chart for month versus count. Document which months have the most bike rides.\n",
    "- Implement code to figure out which months belong to which seasons.\n",
    "- Implement a bar plot of weathersit versus cnt. Document which weather situation has less bike rentals.\n",
    "- Implement a point plot of weathersit on the x-axis, count on the y-axis, and the season as the hue. Document how season and weathersit are related.\n",
    "- Implement a bar plot of hour versus count. Are there any specific hours that are busier than others?\n",
    "- Implement a bar plot of hour versus count on weekends and holidays (when workingday = 0). Does the hourly trend change on weekends?"
   ]
  },
  {
   "cell_type": "code",
   "execution_count": 224,
   "id": "7c134e70",
   "metadata": {},
   "outputs": [
    {
     "data": {
      "text/html": [
       "<div>\n",
       "<style scoped>\n",
       "    .dataframe tbody tr th:only-of-type {\n",
       "        vertical-align: middle;\n",
       "    }\n",
       "\n",
       "    .dataframe tbody tr th {\n",
       "        vertical-align: top;\n",
       "    }\n",
       "\n",
       "    .dataframe thead th {\n",
       "        text-align: right;\n",
       "    }\n",
       "</style>\n",
       "<table border=\"1\" class=\"dataframe\">\n",
       "  <thead>\n",
       "    <tr style=\"text-align: right;\">\n",
       "      <th></th>\n",
       "      <th>instant</th>\n",
       "      <th>dteday</th>\n",
       "      <th>season</th>\n",
       "      <th>yr</th>\n",
       "      <th>mnth</th>\n",
       "      <th>hr</th>\n",
       "      <th>holiday</th>\n",
       "      <th>weekday</th>\n",
       "      <th>workingday</th>\n",
       "      <th>weathersit</th>\n",
       "      <th>temp</th>\n",
       "      <th>atemp</th>\n",
       "      <th>hum</th>\n",
       "      <th>windspeed</th>\n",
       "      <th>casual</th>\n",
       "      <th>registered</th>\n",
       "      <th>cnt</th>\n",
       "    </tr>\n",
       "  </thead>\n",
       "  <tbody>\n",
       "    <tr>\n",
       "      <th>0</th>\n",
       "      <td>1</td>\n",
       "      <td>2011-01-01</td>\n",
       "      <td>1</td>\n",
       "      <td>0</td>\n",
       "      <td>1</td>\n",
       "      <td>0</td>\n",
       "      <td>0</td>\n",
       "      <td>6</td>\n",
       "      <td>0</td>\n",
       "      <td>1</td>\n",
       "      <td>0.24</td>\n",
       "      <td>0.2879</td>\n",
       "      <td>0.81</td>\n",
       "      <td>0.0</td>\n",
       "      <td>3</td>\n",
       "      <td>13</td>\n",
       "      <td>16</td>\n",
       "    </tr>\n",
       "    <tr>\n",
       "      <th>1</th>\n",
       "      <td>2</td>\n",
       "      <td>2011-01-01</td>\n",
       "      <td>1</td>\n",
       "      <td>0</td>\n",
       "      <td>1</td>\n",
       "      <td>1</td>\n",
       "      <td>0</td>\n",
       "      <td>6</td>\n",
       "      <td>0</td>\n",
       "      <td>1</td>\n",
       "      <td>0.22</td>\n",
       "      <td>0.2727</td>\n",
       "      <td>0.80</td>\n",
       "      <td>0.0</td>\n",
       "      <td>8</td>\n",
       "      <td>32</td>\n",
       "      <td>40</td>\n",
       "    </tr>\n",
       "    <tr>\n",
       "      <th>2</th>\n",
       "      <td>3</td>\n",
       "      <td>2011-01-01</td>\n",
       "      <td>1</td>\n",
       "      <td>0</td>\n",
       "      <td>1</td>\n",
       "      <td>2</td>\n",
       "      <td>0</td>\n",
       "      <td>6</td>\n",
       "      <td>0</td>\n",
       "      <td>1</td>\n",
       "      <td>0.22</td>\n",
       "      <td>0.2727</td>\n",
       "      <td>0.80</td>\n",
       "      <td>0.0</td>\n",
       "      <td>5</td>\n",
       "      <td>27</td>\n",
       "      <td>32</td>\n",
       "    </tr>\n",
       "    <tr>\n",
       "      <th>3</th>\n",
       "      <td>4</td>\n",
       "      <td>2011-01-01</td>\n",
       "      <td>1</td>\n",
       "      <td>0</td>\n",
       "      <td>1</td>\n",
       "      <td>3</td>\n",
       "      <td>0</td>\n",
       "      <td>6</td>\n",
       "      <td>0</td>\n",
       "      <td>1</td>\n",
       "      <td>0.24</td>\n",
       "      <td>0.2879</td>\n",
       "      <td>0.75</td>\n",
       "      <td>0.0</td>\n",
       "      <td>3</td>\n",
       "      <td>10</td>\n",
       "      <td>13</td>\n",
       "    </tr>\n",
       "    <tr>\n",
       "      <th>4</th>\n",
       "      <td>5</td>\n",
       "      <td>2011-01-01</td>\n",
       "      <td>1</td>\n",
       "      <td>0</td>\n",
       "      <td>1</td>\n",
       "      <td>4</td>\n",
       "      <td>0</td>\n",
       "      <td>6</td>\n",
       "      <td>0</td>\n",
       "      <td>1</td>\n",
       "      <td>0.24</td>\n",
       "      <td>0.2879</td>\n",
       "      <td>0.75</td>\n",
       "      <td>0.0</td>\n",
       "      <td>0</td>\n",
       "      <td>1</td>\n",
       "      <td>1</td>\n",
       "    </tr>\n",
       "  </tbody>\n",
       "</table>\n",
       "</div>"
      ],
      "text/plain": [
       "   instant      dteday  season  yr  mnth  hr  holiday  weekday  workingday  \\\n",
       "0        1  2011-01-01       1   0     1   0        0        6           0   \n",
       "1        2  2011-01-01       1   0     1   1        0        6           0   \n",
       "2        3  2011-01-01       1   0     1   2        0        6           0   \n",
       "3        4  2011-01-01       1   0     1   3        0        6           0   \n",
       "4        5  2011-01-01       1   0     1   4        0        6           0   \n",
       "\n",
       "   weathersit  temp   atemp   hum  windspeed  casual  registered  cnt  \n",
       "0           1  0.24  0.2879  0.81        0.0       3          13   16  \n",
       "1           1  0.22  0.2727  0.80        0.0       8          32   40  \n",
       "2           1  0.22  0.2727  0.80        0.0       5          27   32  \n",
       "3           1  0.24  0.2879  0.75        0.0       3          10   13  \n",
       "4           1  0.24  0.2879  0.75        0.0       0           1    1  "
      ]
     },
     "execution_count": 224,
     "metadata": {},
     "output_type": "execute_result"
    }
   ],
   "source": [
    "# Read in bike_share_hour.csv as a pandas dataframe.\n",
    "bikeDF = pd.read_csv('bike_share_hour.csv')\n",
    "bikeDF.head()"
   ]
  },
  {
   "cell_type": "code",
   "execution_count": 225,
   "id": "9642a44c",
   "metadata": {},
   "outputs": [
    {
     "name": "stdout",
     "output_type": "stream",
     "text": [
      "<class 'pandas.core.frame.DataFrame'>\n",
      "RangeIndex: 17379 entries, 0 to 17378\n",
      "Data columns (total 17 columns):\n",
      " #   Column      Non-Null Count  Dtype  \n",
      "---  ------      --------------  -----  \n",
      " 0   instant     17379 non-null  int64  \n",
      " 1   dteday      17379 non-null  object \n",
      " 2   season      17379 non-null  int64  \n",
      " 3   yr          17379 non-null  int64  \n",
      " 4   mnth        17379 non-null  int64  \n",
      " 5   hr          17379 non-null  int64  \n",
      " 6   holiday     17379 non-null  int64  \n",
      " 7   weekday     17379 non-null  int64  \n",
      " 8   workingday  17379 non-null  int64  \n",
      " 9   weathersit  17379 non-null  int64  \n",
      " 10  temp        17379 non-null  float64\n",
      " 11  atemp       17379 non-null  float64\n",
      " 12  hum         17379 non-null  float64\n",
      " 13  windspeed   17379 non-null  float64\n",
      " 14  casual      17379 non-null  int64  \n",
      " 15  registered  17379 non-null  int64  \n",
      " 16  cnt         17379 non-null  int64  \n",
      "dtypes: float64(4), int64(12), object(1)\n",
      "memory usage: 2.3+ MB\n"
     ]
    }
   ],
   "source": [
    "# Look at the dataset types\n",
    "bikeDF.info()"
   ]
  },
  {
   "cell_type": "code",
   "execution_count": 226,
   "id": "b3554b91",
   "metadata": {},
   "outputs": [
    {
     "name": "stdout",
     "output_type": "stream",
     "text": [
      "<class 'pandas.core.frame.DataFrame'>\n",
      "RangeIndex: 17379 entries, 0 to 17378\n",
      "Data columns (total 17 columns):\n",
      " #   Column      Non-Null Count  Dtype   \n",
      "---  ------      --------------  -----   \n",
      " 0   instant     17379 non-null  int64   \n",
      " 1   dteday      17379 non-null  category\n",
      " 2   season      17379 non-null  category\n",
      " 3   yr          17379 non-null  category\n",
      " 4   mnth        17379 non-null  category\n",
      " 5   hr          17379 non-null  category\n",
      " 6   holiday     17379 non-null  category\n",
      " 7   weekday     17379 non-null  category\n",
      " 8   workingday  17379 non-null  category\n",
      " 9   weathersit  17379 non-null  category\n",
      " 10  temp        17379 non-null  float64 \n",
      " 11  atemp       17379 non-null  float64 \n",
      " 12  hum         17379 non-null  float64 \n",
      " 13  windspeed   17379 non-null  float64 \n",
      " 14  casual      17379 non-null  int64   \n",
      " 15  registered  17379 non-null  int64   \n",
      " 16  cnt         17379 non-null  int64   \n",
      "dtypes: category(9), float64(4), int64(4)\n",
      "memory usage: 1.3 MB\n"
     ]
    }
   ],
   "source": [
    "# convert the columns that are categorical to a pandas “category” type.\n",
    "bikeDF = bikeDF.astype({\"season\":'category', \"workingday\":'category', \"weathersit\":'category', 'dteday':'category',\n",
    "                        'yr':'category', 'mnth':'category','hr':'category','holiday':'category','weekday':'category' })\n",
    "\n",
    "bikeDF.info()"
   ]
  },
  {
   "cell_type": "code",
   "execution_count": 227,
   "id": "3c2a64ab",
   "metadata": {},
   "outputs": [
    {
     "data": {
      "text/plain": [
       "instant       0\n",
       "dteday        0\n",
       "season        0\n",
       "yr            0\n",
       "mnth          0\n",
       "hr            0\n",
       "holiday       0\n",
       "weekday       0\n",
       "workingday    0\n",
       "weathersit    0\n",
       "temp          0\n",
       "atemp         0\n",
       "hum           0\n",
       "windspeed     0\n",
       "casual        0\n",
       "registered    0\n",
       "cnt           0\n",
       "dtype: int64"
      ]
     },
     "execution_count": 227,
     "metadata": {},
     "output_type": "execute_result"
    }
   ],
   "source": [
    "# Look for non-null values in the dataset.\n",
    "bikeDF.isna().sum()"
   ]
  },
  {
   "cell_type": "code",
   "execution_count": 228,
   "id": "cf3bcd1b",
   "metadata": {},
   "outputs": [
    {
     "data": {
      "text/html": [
       "<div>\n",
       "<style scoped>\n",
       "    .dataframe tbody tr th:only-of-type {\n",
       "        vertical-align: middle;\n",
       "    }\n",
       "\n",
       "    .dataframe tbody tr th {\n",
       "        vertical-align: top;\n",
       "    }\n",
       "\n",
       "    .dataframe thead th {\n",
       "        text-align: right;\n",
       "    }\n",
       "</style>\n",
       "<table border=\"1\" class=\"dataframe\">\n",
       "  <thead>\n",
       "    <tr style=\"text-align: right;\">\n",
       "      <th></th>\n",
       "      <th>instant</th>\n",
       "      <th>temp</th>\n",
       "      <th>atemp</th>\n",
       "      <th>hum</th>\n",
       "      <th>windspeed</th>\n",
       "      <th>casual</th>\n",
       "      <th>registered</th>\n",
       "      <th>cnt</th>\n",
       "    </tr>\n",
       "  </thead>\n",
       "  <tbody>\n",
       "    <tr>\n",
       "      <th>count</th>\n",
       "      <td>17379.0000</td>\n",
       "      <td>17379.000000</td>\n",
       "      <td>17379.000000</td>\n",
       "      <td>17379.000000</td>\n",
       "      <td>17379.000000</td>\n",
       "      <td>17379.000000</td>\n",
       "      <td>17379.000000</td>\n",
       "      <td>17379.000000</td>\n",
       "    </tr>\n",
       "    <tr>\n",
       "      <th>mean</th>\n",
       "      <td>8690.0000</td>\n",
       "      <td>0.496987</td>\n",
       "      <td>0.475775</td>\n",
       "      <td>0.627229</td>\n",
       "      <td>0.190098</td>\n",
       "      <td>35.676218</td>\n",
       "      <td>153.786869</td>\n",
       "      <td>189.463088</td>\n",
       "    </tr>\n",
       "    <tr>\n",
       "      <th>std</th>\n",
       "      <td>5017.0295</td>\n",
       "      <td>0.192556</td>\n",
       "      <td>0.171850</td>\n",
       "      <td>0.192930</td>\n",
       "      <td>0.122340</td>\n",
       "      <td>49.305030</td>\n",
       "      <td>151.357286</td>\n",
       "      <td>181.387599</td>\n",
       "    </tr>\n",
       "    <tr>\n",
       "      <th>min</th>\n",
       "      <td>1.0000</td>\n",
       "      <td>0.020000</td>\n",
       "      <td>0.000000</td>\n",
       "      <td>0.000000</td>\n",
       "      <td>0.000000</td>\n",
       "      <td>0.000000</td>\n",
       "      <td>0.000000</td>\n",
       "      <td>1.000000</td>\n",
       "    </tr>\n",
       "    <tr>\n",
       "      <th>25%</th>\n",
       "      <td>4345.5000</td>\n",
       "      <td>0.340000</td>\n",
       "      <td>0.333300</td>\n",
       "      <td>0.480000</td>\n",
       "      <td>0.104500</td>\n",
       "      <td>4.000000</td>\n",
       "      <td>34.000000</td>\n",
       "      <td>40.000000</td>\n",
       "    </tr>\n",
       "    <tr>\n",
       "      <th>50%</th>\n",
       "      <td>8690.0000</td>\n",
       "      <td>0.500000</td>\n",
       "      <td>0.484800</td>\n",
       "      <td>0.630000</td>\n",
       "      <td>0.194000</td>\n",
       "      <td>17.000000</td>\n",
       "      <td>115.000000</td>\n",
       "      <td>142.000000</td>\n",
       "    </tr>\n",
       "    <tr>\n",
       "      <th>75%</th>\n",
       "      <td>13034.5000</td>\n",
       "      <td>0.660000</td>\n",
       "      <td>0.621200</td>\n",
       "      <td>0.780000</td>\n",
       "      <td>0.253700</td>\n",
       "      <td>48.000000</td>\n",
       "      <td>220.000000</td>\n",
       "      <td>281.000000</td>\n",
       "    </tr>\n",
       "    <tr>\n",
       "      <th>max</th>\n",
       "      <td>17379.0000</td>\n",
       "      <td>1.000000</td>\n",
       "      <td>1.000000</td>\n",
       "      <td>1.000000</td>\n",
       "      <td>0.850700</td>\n",
       "      <td>367.000000</td>\n",
       "      <td>886.000000</td>\n",
       "      <td>977.000000</td>\n",
       "    </tr>\n",
       "  </tbody>\n",
       "</table>\n",
       "</div>"
      ],
      "text/plain": [
       "          instant          temp         atemp           hum     windspeed  \\\n",
       "count  17379.0000  17379.000000  17379.000000  17379.000000  17379.000000   \n",
       "mean    8690.0000      0.496987      0.475775      0.627229      0.190098   \n",
       "std     5017.0295      0.192556      0.171850      0.192930      0.122340   \n",
       "min        1.0000      0.020000      0.000000      0.000000      0.000000   \n",
       "25%     4345.5000      0.340000      0.333300      0.480000      0.104500   \n",
       "50%     8690.0000      0.500000      0.484800      0.630000      0.194000   \n",
       "75%    13034.5000      0.660000      0.621200      0.780000      0.253700   \n",
       "max    17379.0000      1.000000      1.000000      1.000000      0.850700   \n",
       "\n",
       "             casual    registered           cnt  \n",
       "count  17379.000000  17379.000000  17379.000000  \n",
       "mean      35.676218    153.786869    189.463088  \n",
       "std       49.305030    151.357286    181.387599  \n",
       "min        0.000000      0.000000      1.000000  \n",
       "25%        4.000000     34.000000     40.000000  \n",
       "50%       17.000000    115.000000    142.000000  \n",
       "75%       48.000000    220.000000    281.000000  \n",
       "max      367.000000    886.000000    977.000000  "
      ]
     },
     "execution_count": 228,
     "metadata": {},
     "output_type": "execute_result"
    }
   ],
   "source": [
    "# Do a descriptive analysis of the numeric columns.\n",
    "bikeDF.describe()"
   ]
  },
  {
   "cell_type": "code",
   "execution_count": 229,
   "id": "ee22e981",
   "metadata": {},
   "outputs": [
    {
     "data": {
      "text/plain": [
       "<AxesSubplot:xlabel='season', ylabel='cnt'>"
      ]
     },
     "execution_count": 229,
     "metadata": {},
     "output_type": "execute_result"
    },
    {
     "data": {
      "image/png": "[encoded data removed]",
      "text/plain": [
       "<Figure size 432x288 with 1 Axes>"
      ]
     },
     "metadata": {
      "needs_background": "light"
     },
     "output_type": "display_data"
    }
   ],
   "source": [
    "# Implement a bar plot of cnt versus season. Document which season has the most bike rides and which season has the least.\n",
    "sns.barplot(x = 'season', y = 'cnt', data = bikeDF)"
   ]
  },
  {
   "cell_type": "markdown",
   "id": "56e8568e",
   "metadata": {},
   "source": [
    "1:spring, 2:summer, 3:fall, 4:winter\n",
    "\n",
    "The season with the most bike rides is fall (3) and the season with the least bike rides is spring (1). "
   ]
  },
  {
   "cell_type": "code",
   "execution_count": 230,
   "id": "0cf84ebe",
   "metadata": {},
   "outputs": [
    {
     "data": {
      "text/plain": [
       "<AxesSubplot:xlabel='workingday', ylabel='cnt'>"
      ]
     },
     "execution_count": 230,
     "metadata": {},
     "output_type": "execute_result"
    },
    {
     "data": {
      "image/png": "[encoded data removed]",
      "text/plain": [
       "<Figure size 432x288 with 1 Axes>"
      ]
     },
     "metadata": {
      "needs_background": "light"
     },
     "output_type": "display_data"
    }
   ],
   "source": [
    "# Implement a bar chart for working day versus count. Document how bike rides are distributed across these two classes.\n",
    "sns.barplot(x = 'workingday', y = 'cnt', data = bikeDF)"
   ]
  },
  {
   "cell_type": "markdown",
   "id": "c549272e",
   "metadata": {},
   "source": [
    "if day is neither weekend nor holiday is 1, otherwise is 0.\n",
    "\n",
    "The number of bike rides that take place during the week (1) are higher than that of a weekend/holiday, however, not by much. One could argue that there is no significant difference between the number of bike rides that take place during the week vs. the weekend/holiday."
   ]
  },
  {
   "cell_type": "code",
   "execution_count": 231,
   "id": "12939470",
   "metadata": {},
   "outputs": [
    {
     "data": {
      "text/plain": [
       "<AxesSubplot:xlabel='mnth', ylabel='cnt'>"
      ]
     },
     "execution_count": 231,
     "metadata": {},
     "output_type": "execute_result"
    },
    {
     "data": {
      "image/png": "[encoded data removed]",
      "text/plain": [
       "<Figure size 432x288 with 1 Axes>"
      ]
     },
     "metadata": {
      "needs_background": "light"
     },
     "output_type": "display_data"
    }
   ],
   "source": [
    "# Implement a bar chart for month versus count. Document which months have the most bike rides.\n",
    "sns.barplot(x = 'mnth', y = 'cnt', data = bikeDF)"
   ]
  },
  {
   "cell_type": "code",
   "execution_count": 232,
   "id": "f4843ccb",
   "metadata": {},
   "outputs": [
    {
     "data": {
      "text/html": [
       "<div>\n",
       "<style scoped>\n",
       "    .dataframe tbody tr th:only-of-type {\n",
       "        vertical-align: middle;\n",
       "    }\n",
       "\n",
       "    .dataframe tbody tr th {\n",
       "        vertical-align: top;\n",
       "    }\n",
       "\n",
       "    .dataframe thead th {\n",
       "        text-align: right;\n",
       "    }\n",
       "</style>\n",
       "<table border=\"1\" class=\"dataframe\">\n",
       "  <thead>\n",
       "    <tr style=\"text-align: right;\">\n",
       "      <th>season</th>\n",
       "      <th>1</th>\n",
       "      <th>2</th>\n",
       "      <th>3</th>\n",
       "      <th>4</th>\n",
       "    </tr>\n",
       "    <tr>\n",
       "      <th>mnth</th>\n",
       "      <th></th>\n",
       "      <th></th>\n",
       "      <th></th>\n",
       "      <th></th>\n",
       "    </tr>\n",
       "  </thead>\n",
       "  <tbody>\n",
       "    <tr>\n",
       "      <th>1</th>\n",
       "      <td>1429</td>\n",
       "      <td>0</td>\n",
       "      <td>0</td>\n",
       "      <td>0</td>\n",
       "    </tr>\n",
       "    <tr>\n",
       "      <th>2</th>\n",
       "      <td>1341</td>\n",
       "      <td>0</td>\n",
       "      <td>0</td>\n",
       "      <td>0</td>\n",
       "    </tr>\n",
       "    <tr>\n",
       "      <th>3</th>\n",
       "      <td>949</td>\n",
       "      <td>524</td>\n",
       "      <td>0</td>\n",
       "      <td>0</td>\n",
       "    </tr>\n",
       "    <tr>\n",
       "      <th>4</th>\n",
       "      <td>0</td>\n",
       "      <td>1437</td>\n",
       "      <td>0</td>\n",
       "      <td>0</td>\n",
       "    </tr>\n",
       "    <tr>\n",
       "      <th>5</th>\n",
       "      <td>0</td>\n",
       "      <td>1488</td>\n",
       "      <td>0</td>\n",
       "      <td>0</td>\n",
       "    </tr>\n",
       "    <tr>\n",
       "      <th>6</th>\n",
       "      <td>0</td>\n",
       "      <td>960</td>\n",
       "      <td>480</td>\n",
       "      <td>0</td>\n",
       "    </tr>\n",
       "    <tr>\n",
       "      <th>7</th>\n",
       "      <td>0</td>\n",
       "      <td>0</td>\n",
       "      <td>1488</td>\n",
       "      <td>0</td>\n",
       "    </tr>\n",
       "    <tr>\n",
       "      <th>8</th>\n",
       "      <td>0</td>\n",
       "      <td>0</td>\n",
       "      <td>1475</td>\n",
       "      <td>0</td>\n",
       "    </tr>\n",
       "    <tr>\n",
       "      <th>9</th>\n",
       "      <td>0</td>\n",
       "      <td>0</td>\n",
       "      <td>1053</td>\n",
       "      <td>384</td>\n",
       "    </tr>\n",
       "    <tr>\n",
       "      <th>10</th>\n",
       "      <td>0</td>\n",
       "      <td>0</td>\n",
       "      <td>0</td>\n",
       "      <td>1451</td>\n",
       "    </tr>\n",
       "    <tr>\n",
       "      <th>11</th>\n",
       "      <td>0</td>\n",
       "      <td>0</td>\n",
       "      <td>0</td>\n",
       "      <td>1437</td>\n",
       "    </tr>\n",
       "    <tr>\n",
       "      <th>12</th>\n",
       "      <td>523</td>\n",
       "      <td>0</td>\n",
       "      <td>0</td>\n",
       "      <td>960</td>\n",
       "    </tr>\n",
       "  </tbody>\n",
       "</table>\n",
       "</div>"
      ],
      "text/plain": [
       "season     1     2     3     4\n",
       "mnth                          \n",
       "1       1429     0     0     0\n",
       "2       1341     0     0     0\n",
       "3        949   524     0     0\n",
       "4          0  1437     0     0\n",
       "5          0  1488     0     0\n",
       "6          0   960   480     0\n",
       "7          0     0  1488     0\n",
       "8          0     0  1475     0\n",
       "9          0     0  1053   384\n",
       "10         0     0     0  1451\n",
       "11         0     0     0  1437\n",
       "12       523     0     0   960"
      ]
     },
     "execution_count": 232,
     "metadata": {},
     "output_type": "execute_result"
    }
   ],
   "source": [
    "# Implement code to figure out which months belong to which seasons.\n",
    "pd.crosstab(bikeDF['mnth'],bikeDF['season'])"
   ]
  },
  {
   "cell_type": "markdown",
   "id": "1e3a1dac",
   "metadata": {},
   "source": [
    "There is some overlap between months. For instances, month 3 is divided (not-evenly) between season 1 (Spring) and season 2 (Summer).\n",
    "- Season 1 (Spring) contains months 1, 2, 3 and 12\n",
    "- Season 2 (Summer) contains months 3, 4, 5, and 6\n",
    "- Season 3 (Fall) contains months 6, 7, 8, and 9\n",
    "- Season 4 (Winter) contains months 9, 10, 11 and 12"
   ]
  },
  {
   "cell_type": "code",
   "execution_count": 233,
   "id": "3f80e0f7",
   "metadata": {},
   "outputs": [
    {
     "data": {
      "text/plain": [
       "<AxesSubplot:xlabel='weathersit', ylabel='cnt'>"
      ]
     },
     "execution_count": 233,
     "metadata": {},
     "output_type": "execute_result"
    },
    {
     "data": {
      "image/png": "[encoded data removed]",
      "text/plain": [
       "<Figure size 432x288 with 1 Axes>"
      ]
     },
     "metadata": {
      "needs_background": "light"
     },
     "output_type": "display_data"
    }
   ],
   "source": [
    "# Implement a bar plot of weathersit versus cnt. Document which weather situation has less bike rentals.\n",
    "sns.barplot(x = 'weathersit', y = 'cnt', data = bikeDF)"
   ]
  },
  {
   "cell_type": "markdown",
   "id": "5c07a36d",
   "metadata": {},
   "source": [
    "Weathersit Information from readme:\n",
    "- 1: Clear, Few clouds, Partly cloudy, Partly cloudy\n",
    "- 2: Mist + Cloudy, Mist + Broken clouds, Mist + Few clouds, Mist\n",
    "- 3: Light Snow, Light Rain + Thunderstorm + Scattered clouds, Light Rain + Scattered clouds\n",
    "- 4: Heavy Rain + Ice Pallets + Thunderstorm + Mist, Snow + Fog\n",
    "\n",
    "Based on the above bar plot, There are less bike rentals when the weather situation is a situtation of 4 from the description above however there is a very large error bar."
   ]
  },
  {
   "cell_type": "code",
   "execution_count": 234,
   "id": "bbd49b3d",
   "metadata": {},
   "outputs": [
    {
     "data": {
      "image/png": "[encoded data removed]",
      "text/plain": [
       "<Figure size 432x288 with 1 Axes>"
      ]
     },
     "metadata": {
      "needs_background": "light"
     },
     "output_type": "display_data"
    }
   ],
   "source": [
    "# Implement a point plot of weathersit on the x-axis, count on the y-axis, and the season as the hue. \n",
    "# Document how season and weathersit are related.\n",
    "\n",
    "sns.barplot(x = 'weathersit', y = 'cnt', hue = 'season', data = bikeDF)\n",
    "plt.legend(loc=\"upper right\")\n",
    "plt.show()"
   ]
  },
  {
   "cell_type": "code",
   "execution_count": 235,
   "id": "6bfa35e8",
   "metadata": {},
   "outputs": [
    {
     "data": {
      "text/plain": [
       "<AxesSubplot:xlabel='hr', ylabel='cnt'>"
      ]
     },
     "execution_count": 235,
     "metadata": {},
     "output_type": "execute_result"
    },
    {
     "data": {
      "image/png": "[encoded data removed]",
      "text/plain": [
       "<Figure size 432x288 with 1 Axes>"
      ]
     },
     "metadata": {
      "needs_background": "light"
     },
     "output_type": "display_data"
    }
   ],
   "source": [
    "# Implement a bar plot of hour versus count. Are there any specific hours that are busier than others?\n",
    "sns.barplot(x = 'hr', y = 'cnt', data = bikeDF)"
   ]
  },
  {
   "cell_type": "markdown",
   "id": "0f99f229",
   "metadata": {},
   "source": [
    "The peak of bike rentals is at hour 17."
   ]
  },
  {
   "cell_type": "code",
   "execution_count": 236,
   "id": "e928944e",
   "metadata": {},
   "outputs": [
    {
     "data": {
      "text/html": [
       "<div>\n",
       "<style scoped>\n",
       "    .dataframe tbody tr th:only-of-type {\n",
       "        vertical-align: middle;\n",
       "    }\n",
       "\n",
       "    .dataframe tbody tr th {\n",
       "        vertical-align: top;\n",
       "    }\n",
       "\n",
       "    .dataframe thead th {\n",
       "        text-align: right;\n",
       "    }\n",
       "</style>\n",
       "<table border=\"1\" class=\"dataframe\">\n",
       "  <thead>\n",
       "    <tr style=\"text-align: right;\">\n",
       "      <th></th>\n",
       "      <th>instant</th>\n",
       "      <th>dteday</th>\n",
       "      <th>season</th>\n",
       "      <th>yr</th>\n",
       "      <th>mnth</th>\n",
       "      <th>hr</th>\n",
       "      <th>holiday</th>\n",
       "      <th>weekday</th>\n",
       "      <th>workingday</th>\n",
       "      <th>weathersit</th>\n",
       "      <th>temp</th>\n",
       "      <th>atemp</th>\n",
       "      <th>hum</th>\n",
       "      <th>windspeed</th>\n",
       "      <th>casual</th>\n",
       "      <th>registered</th>\n",
       "      <th>cnt</th>\n",
       "    </tr>\n",
       "  </thead>\n",
       "  <tbody>\n",
       "    <tr>\n",
       "      <th>0</th>\n",
       "      <td>1</td>\n",
       "      <td>2011-01-01</td>\n",
       "      <td>1</td>\n",
       "      <td>0</td>\n",
       "      <td>1</td>\n",
       "      <td>0</td>\n",
       "      <td>0</td>\n",
       "      <td>6</td>\n",
       "      <td>0</td>\n",
       "      <td>1</td>\n",
       "      <td>0.24</td>\n",
       "      <td>0.2879</td>\n",
       "      <td>0.81</td>\n",
       "      <td>0.0000</td>\n",
       "      <td>3</td>\n",
       "      <td>13</td>\n",
       "      <td>16</td>\n",
       "    </tr>\n",
       "    <tr>\n",
       "      <th>1</th>\n",
       "      <td>2</td>\n",
       "      <td>2011-01-01</td>\n",
       "      <td>1</td>\n",
       "      <td>0</td>\n",
       "      <td>1</td>\n",
       "      <td>1</td>\n",
       "      <td>0</td>\n",
       "      <td>6</td>\n",
       "      <td>0</td>\n",
       "      <td>1</td>\n",
       "      <td>0.22</td>\n",
       "      <td>0.2727</td>\n",
       "      <td>0.80</td>\n",
       "      <td>0.0000</td>\n",
       "      <td>8</td>\n",
       "      <td>32</td>\n",
       "      <td>40</td>\n",
       "    </tr>\n",
       "    <tr>\n",
       "      <th>2</th>\n",
       "      <td>3</td>\n",
       "      <td>2011-01-01</td>\n",
       "      <td>1</td>\n",
       "      <td>0</td>\n",
       "      <td>1</td>\n",
       "      <td>2</td>\n",
       "      <td>0</td>\n",
       "      <td>6</td>\n",
       "      <td>0</td>\n",
       "      <td>1</td>\n",
       "      <td>0.22</td>\n",
       "      <td>0.2727</td>\n",
       "      <td>0.80</td>\n",
       "      <td>0.0000</td>\n",
       "      <td>5</td>\n",
       "      <td>27</td>\n",
       "      <td>32</td>\n",
       "    </tr>\n",
       "    <tr>\n",
       "      <th>3</th>\n",
       "      <td>4</td>\n",
       "      <td>2011-01-01</td>\n",
       "      <td>1</td>\n",
       "      <td>0</td>\n",
       "      <td>1</td>\n",
       "      <td>3</td>\n",
       "      <td>0</td>\n",
       "      <td>6</td>\n",
       "      <td>0</td>\n",
       "      <td>1</td>\n",
       "      <td>0.24</td>\n",
       "      <td>0.2879</td>\n",
       "      <td>0.75</td>\n",
       "      <td>0.0000</td>\n",
       "      <td>3</td>\n",
       "      <td>10</td>\n",
       "      <td>13</td>\n",
       "    </tr>\n",
       "    <tr>\n",
       "      <th>4</th>\n",
       "      <td>5</td>\n",
       "      <td>2011-01-01</td>\n",
       "      <td>1</td>\n",
       "      <td>0</td>\n",
       "      <td>1</td>\n",
       "      <td>4</td>\n",
       "      <td>0</td>\n",
       "      <td>6</td>\n",
       "      <td>0</td>\n",
       "      <td>1</td>\n",
       "      <td>0.24</td>\n",
       "      <td>0.2879</td>\n",
       "      <td>0.75</td>\n",
       "      <td>0.0000</td>\n",
       "      <td>0</td>\n",
       "      <td>1</td>\n",
       "      <td>1</td>\n",
       "    </tr>\n",
       "    <tr>\n",
       "      <th>...</th>\n",
       "      <td>...</td>\n",
       "      <td>...</td>\n",
       "      <td>...</td>\n",
       "      <td>...</td>\n",
       "      <td>...</td>\n",
       "      <td>...</td>\n",
       "      <td>...</td>\n",
       "      <td>...</td>\n",
       "      <td>...</td>\n",
       "      <td>...</td>\n",
       "      <td>...</td>\n",
       "      <td>...</td>\n",
       "      <td>...</td>\n",
       "      <td>...</td>\n",
       "      <td>...</td>\n",
       "      <td>...</td>\n",
       "      <td>...</td>\n",
       "    </tr>\n",
       "    <tr>\n",
       "      <th>17350</th>\n",
       "      <td>17351</td>\n",
       "      <td>2012-12-30</td>\n",
       "      <td>1</td>\n",
       "      <td>1</td>\n",
       "      <td>12</td>\n",
       "      <td>19</td>\n",
       "      <td>0</td>\n",
       "      <td>0</td>\n",
       "      <td>0</td>\n",
       "      <td>1</td>\n",
       "      <td>0.34</td>\n",
       "      <td>0.3636</td>\n",
       "      <td>0.61</td>\n",
       "      <td>0.0000</td>\n",
       "      <td>16</td>\n",
       "      <td>86</td>\n",
       "      <td>102</td>\n",
       "    </tr>\n",
       "    <tr>\n",
       "      <th>17351</th>\n",
       "      <td>17352</td>\n",
       "      <td>2012-12-30</td>\n",
       "      <td>1</td>\n",
       "      <td>1</td>\n",
       "      <td>12</td>\n",
       "      <td>20</td>\n",
       "      <td>0</td>\n",
       "      <td>0</td>\n",
       "      <td>0</td>\n",
       "      <td>1</td>\n",
       "      <td>0.22</td>\n",
       "      <td>0.1970</td>\n",
       "      <td>0.47</td>\n",
       "      <td>0.3284</td>\n",
       "      <td>9</td>\n",
       "      <td>63</td>\n",
       "      <td>72</td>\n",
       "    </tr>\n",
       "    <tr>\n",
       "      <th>17352</th>\n",
       "      <td>17353</td>\n",
       "      <td>2012-12-30</td>\n",
       "      <td>1</td>\n",
       "      <td>1</td>\n",
       "      <td>12</td>\n",
       "      <td>21</td>\n",
       "      <td>0</td>\n",
       "      <td>0</td>\n",
       "      <td>0</td>\n",
       "      <td>1</td>\n",
       "      <td>0.20</td>\n",
       "      <td>0.2121</td>\n",
       "      <td>0.51</td>\n",
       "      <td>0.1642</td>\n",
       "      <td>5</td>\n",
       "      <td>42</td>\n",
       "      <td>47</td>\n",
       "    </tr>\n",
       "    <tr>\n",
       "      <th>17353</th>\n",
       "      <td>17354</td>\n",
       "      <td>2012-12-30</td>\n",
       "      <td>1</td>\n",
       "      <td>1</td>\n",
       "      <td>12</td>\n",
       "      <td>22</td>\n",
       "      <td>0</td>\n",
       "      <td>0</td>\n",
       "      <td>0</td>\n",
       "      <td>1</td>\n",
       "      <td>0.20</td>\n",
       "      <td>0.1970</td>\n",
       "      <td>0.55</td>\n",
       "      <td>0.1940</td>\n",
       "      <td>6</td>\n",
       "      <td>30</td>\n",
       "      <td>36</td>\n",
       "    </tr>\n",
       "    <tr>\n",
       "      <th>17354</th>\n",
       "      <td>17355</td>\n",
       "      <td>2012-12-30</td>\n",
       "      <td>1</td>\n",
       "      <td>1</td>\n",
       "      <td>12</td>\n",
       "      <td>23</td>\n",
       "      <td>0</td>\n",
       "      <td>0</td>\n",
       "      <td>0</td>\n",
       "      <td>1</td>\n",
       "      <td>0.20</td>\n",
       "      <td>0.1970</td>\n",
       "      <td>0.51</td>\n",
       "      <td>0.2239</td>\n",
       "      <td>10</td>\n",
       "      <td>39</td>\n",
       "      <td>49</td>\n",
       "    </tr>\n",
       "  </tbody>\n",
       "</table>\n",
       "<p>5514 rows × 17 columns</p>\n",
       "</div>"
      ],
      "text/plain": [
       "       instant      dteday season yr mnth  hr holiday weekday workingday  \\\n",
       "0            1  2011-01-01      1  0    1   0       0       6          0   \n",
       "1            2  2011-01-01      1  0    1   1       0       6          0   \n",
       "2            3  2011-01-01      1  0    1   2       0       6          0   \n",
       "3            4  2011-01-01      1  0    1   3       0       6          0   \n",
       "4            5  2011-01-01      1  0    1   4       0       6          0   \n",
       "...        ...         ...    ... ..  ...  ..     ...     ...        ...   \n",
       "17350    17351  2012-12-30      1  1   12  19       0       0          0   \n",
       "17351    17352  2012-12-30      1  1   12  20       0       0          0   \n",
       "17352    17353  2012-12-30      1  1   12  21       0       0          0   \n",
       "17353    17354  2012-12-30      1  1   12  22       0       0          0   \n",
       "17354    17355  2012-12-30      1  1   12  23       0       0          0   \n",
       "\n",
       "      weathersit  temp   atemp   hum  windspeed  casual  registered  cnt  \n",
       "0              1  0.24  0.2879  0.81     0.0000       3          13   16  \n",
       "1              1  0.22  0.2727  0.80     0.0000       8          32   40  \n",
       "2              1  0.22  0.2727  0.80     0.0000       5          27   32  \n",
       "3              1  0.24  0.2879  0.75     0.0000       3          10   13  \n",
       "4              1  0.24  0.2879  0.75     0.0000       0           1    1  \n",
       "...          ...   ...     ...   ...        ...     ...         ...  ...  \n",
       "17350          1  0.34  0.3636  0.61     0.0000      16          86  102  \n",
       "17351          1  0.22  0.1970  0.47     0.3284       9          63   72  \n",
       "17352          1  0.20  0.2121  0.51     0.1642       5          42   47  \n",
       "17353          1  0.20  0.1970  0.55     0.1940       6          30   36  \n",
       "17354          1  0.20  0.1970  0.51     0.2239      10          39   49  \n",
       "\n",
       "[5514 rows x 17 columns]"
      ]
     },
     "execution_count": 236,
     "metadata": {},
     "output_type": "execute_result"
    }
   ],
   "source": [
    "# Implement a bar plot of hour versus count on weekends and holidays (when workingday = 0). \n",
    "# Does the hourly trend change on weekends?\n",
    "df2 = bikeDF[bikeDF['workingday'] == 0]\n",
    "df2"
   ]
  },
  {
   "cell_type": "code",
   "execution_count": 237,
   "id": "e7a23944",
   "metadata": {},
   "outputs": [
    {
     "data": {
      "text/plain": [
       "<AxesSubplot:xlabel='hr', ylabel='cnt'>"
      ]
     },
     "execution_count": 237,
     "metadata": {},
     "output_type": "execute_result"
    },
    {
     "data": {
      "image/png": "[encoded data removed]",
      "text/plain": [
       "<Figure size 432x288 with 1 Axes>"
      ]
     },
     "metadata": {
      "needs_background": "light"
     },
     "output_type": "display_data"
    }
   ],
   "source": [
    "sns.barplot(x = 'hr', y = 'cnt', data = df2)"
   ]
  },
  {
   "cell_type": "markdown",
   "id": "d8f2c97d",
   "metadata": {},
   "source": [
    "When changing the plot from all days to only weekends/holidays, the plot does change. The plot shows a nice curve with the peak rentals between the 11th and 17th hour."
   ]
  },
  {
   "cell_type": "markdown",
   "id": "2bebbdc3",
   "metadata": {},
   "source": [
    "### Assignment 4, Part 2: Data Preparation\n",
    "- Implement and graph a correlation matrix with the remaining numeric features. Any interesting relationships?\n",
    "- Scale the numerical features using StandardScaler(), and replace the original columns in your dataframe.\n",
    "- Drop the following columns from your dataset: casual, registered, dteday, instant.\n",
    "- Implement a histogram of the count column. What can be said based on the resulting distribution?\n",
    "- Implement a train/test split with a test size of 33%.\n",
    "- Implement a baseline linear regression algorithm. Use cross-validation to output r2 and mse. Calculate RMSE base on mse. Document your scores."
   ]
  },
  {
   "cell_type": "code",
   "execution_count": 238,
   "id": "5537e5d2",
   "metadata": {},
   "outputs": [
    {
     "data": {
      "text/plain": [
       "<function matplotlib.pyplot.show(close=None, block=None)>"
      ]
     },
     "execution_count": 238,
     "metadata": {},
     "output_type": "execute_result"
    },
    {
     "data": {
      "image/png": "[encoded data removed]",
      "text/plain": [
       "<Figure size 720x720 with 2 Axes>"
      ]
     },
     "metadata": {
      "needs_background": "light"
     },
     "output_type": "display_data"
    }
   ],
   "source": [
    "# Implement and graph a correlation matrix with the remaining numeric features. Any interesting relationships?\n",
    "\n",
    "corr_matrix = bikeDF.corr()\n",
    "heatmap = plt.figure(figsize = (10,10))\n",
    "ax = sns.heatmap(corr_matrix, annot = True)\n",
    "plt.show"
   ]
  },
  {
   "cell_type": "markdown",
   "id": "6014bcf5",
   "metadata": {},
   "source": [
    "Strong positive correlations: temp with atemp, registered with cnt\n",
    "Strong negative correlations: hum with windspeed, hum with cnt"
   ]
  },
  {
   "cell_type": "code",
   "execution_count": 239,
   "id": "c9d6835c",
   "metadata": {},
   "outputs": [
    {
     "data": {
      "text/html": [
       "<div>\n",
       "<style scoped>\n",
       "    .dataframe tbody tr th:only-of-type {\n",
       "        vertical-align: middle;\n",
       "    }\n",
       "\n",
       "    .dataframe tbody tr th {\n",
       "        vertical-align: top;\n",
       "    }\n",
       "\n",
       "    .dataframe thead th {\n",
       "        text-align: right;\n",
       "    }\n",
       "</style>\n",
       "<table border=\"1\" class=\"dataframe\">\n",
       "  <thead>\n",
       "    <tr style=\"text-align: right;\">\n",
       "      <th></th>\n",
       "      <th>instant</th>\n",
       "      <th>dteday</th>\n",
       "      <th>season</th>\n",
       "      <th>yr</th>\n",
       "      <th>mnth</th>\n",
       "      <th>hr</th>\n",
       "      <th>holiday</th>\n",
       "      <th>weekday</th>\n",
       "      <th>workingday</th>\n",
       "      <th>weathersit</th>\n",
       "      <th>temp</th>\n",
       "      <th>atemp</th>\n",
       "      <th>hum</th>\n",
       "      <th>windspeed</th>\n",
       "      <th>casual</th>\n",
       "      <th>registered</th>\n",
       "      <th>cnt</th>\n",
       "    </tr>\n",
       "  </thead>\n",
       "  <tbody>\n",
       "    <tr>\n",
       "      <th>0</th>\n",
       "      <td>-1.731951</td>\n",
       "      <td>2011-01-01</td>\n",
       "      <td>1</td>\n",
       "      <td>0</td>\n",
       "      <td>1</td>\n",
       "      <td>0</td>\n",
       "      <td>0</td>\n",
       "      <td>6</td>\n",
       "      <td>0</td>\n",
       "      <td>1</td>\n",
       "      <td>-1.334648</td>\n",
       "      <td>-1.093281</td>\n",
       "      <td>0.947372</td>\n",
       "      <td>-1.553889</td>\n",
       "      <td>-0.662755</td>\n",
       "      <td>-0.930189</td>\n",
       "      <td>-0.956339</td>\n",
       "    </tr>\n",
       "    <tr>\n",
       "      <th>1</th>\n",
       "      <td>-1.731752</td>\n",
       "      <td>2011-01-01</td>\n",
       "      <td>1</td>\n",
       "      <td>0</td>\n",
       "      <td>1</td>\n",
       "      <td>1</td>\n",
       "      <td>0</td>\n",
       "      <td>6</td>\n",
       "      <td>0</td>\n",
       "      <td>1</td>\n",
       "      <td>-1.438516</td>\n",
       "      <td>-1.181732</td>\n",
       "      <td>0.895539</td>\n",
       "      <td>-1.553889</td>\n",
       "      <td>-0.561343</td>\n",
       "      <td>-0.804655</td>\n",
       "      <td>-0.824022</td>\n",
       "    </tr>\n",
       "    <tr>\n",
       "      <th>2</th>\n",
       "      <td>-1.731552</td>\n",
       "      <td>2011-01-01</td>\n",
       "      <td>1</td>\n",
       "      <td>0</td>\n",
       "      <td>1</td>\n",
       "      <td>2</td>\n",
       "      <td>0</td>\n",
       "      <td>6</td>\n",
       "      <td>0</td>\n",
       "      <td>1</td>\n",
       "      <td>-1.438516</td>\n",
       "      <td>-1.181732</td>\n",
       "      <td>0.895539</td>\n",
       "      <td>-1.553889</td>\n",
       "      <td>-0.622190</td>\n",
       "      <td>-0.837690</td>\n",
       "      <td>-0.868128</td>\n",
       "    </tr>\n",
       "    <tr>\n",
       "      <th>3</th>\n",
       "      <td>-1.731353</td>\n",
       "      <td>2011-01-01</td>\n",
       "      <td>1</td>\n",
       "      <td>0</td>\n",
       "      <td>1</td>\n",
       "      <td>3</td>\n",
       "      <td>0</td>\n",
       "      <td>6</td>\n",
       "      <td>0</td>\n",
       "      <td>1</td>\n",
       "      <td>-1.334648</td>\n",
       "      <td>-1.093281</td>\n",
       "      <td>0.636370</td>\n",
       "      <td>-1.553889</td>\n",
       "      <td>-0.662755</td>\n",
       "      <td>-0.950010</td>\n",
       "      <td>-0.972879</td>\n",
       "    </tr>\n",
       "    <tr>\n",
       "      <th>4</th>\n",
       "      <td>-1.731154</td>\n",
       "      <td>2011-01-01</td>\n",
       "      <td>1</td>\n",
       "      <td>0</td>\n",
       "      <td>1</td>\n",
       "      <td>4</td>\n",
       "      <td>0</td>\n",
       "      <td>6</td>\n",
       "      <td>0</td>\n",
       "      <td>1</td>\n",
       "      <td>-1.334648</td>\n",
       "      <td>-1.093281</td>\n",
       "      <td>0.636370</td>\n",
       "      <td>-1.553889</td>\n",
       "      <td>-0.723603</td>\n",
       "      <td>-1.009474</td>\n",
       "      <td>-1.039037</td>\n",
       "    </tr>\n",
       "  </tbody>\n",
       "</table>\n",
       "</div>"
      ],
      "text/plain": [
       "    instant      dteday season yr mnth hr holiday weekday workingday  \\\n",
       "0 -1.731951  2011-01-01      1  0    1  0       0       6          0   \n",
       "1 -1.731752  2011-01-01      1  0    1  1       0       6          0   \n",
       "2 -1.731552  2011-01-01      1  0    1  2       0       6          0   \n",
       "3 -1.731353  2011-01-01      1  0    1  3       0       6          0   \n",
       "4 -1.731154  2011-01-01      1  0    1  4       0       6          0   \n",
       "\n",
       "  weathersit      temp     atemp       hum  windspeed    casual  registered  \\\n",
       "0          1 -1.334648 -1.093281  0.947372  -1.553889 -0.662755   -0.930189   \n",
       "1          1 -1.438516 -1.181732  0.895539  -1.553889 -0.561343   -0.804655   \n",
       "2          1 -1.438516 -1.181732  0.895539  -1.553889 -0.622190   -0.837690   \n",
       "3          1 -1.334648 -1.093281  0.636370  -1.553889 -0.662755   -0.950010   \n",
       "4          1 -1.334648 -1.093281  0.636370  -1.553889 -0.723603   -1.009474   \n",
       "\n",
       "        cnt  \n",
       "0 -0.956339  \n",
       "1 -0.824022  \n",
       "2 -0.868128  \n",
       "3 -0.972879  \n",
       "4 -1.039037  "
      ]
     },
     "execution_count": 239,
     "metadata": {},
     "output_type": "execute_result"
    }
   ],
   "source": [
    "# Scale the numerical features using StandardScaler(), and replace the original columns in your dataframe.\n",
    "\n",
    "scaler = StandardScaler()\n",
    "numeric_cols = list(bikeDF.dtypes[bikeDF.dtypes != 'category'].index)\n",
    "bikeDF.loc[:,numeric_cols] = scaler.fit_transform(bikeDF.loc[:,numeric_cols])\n",
    "\n",
    "bikeDF.head()"
   ]
  },
  {
   "cell_type": "code",
   "execution_count": 240,
   "id": "d55ffc5e",
   "metadata": {},
   "outputs": [
    {
     "data": {
      "text/html": [
       "<div>\n",
       "<style scoped>\n",
       "    .dataframe tbody tr th:only-of-type {\n",
       "        vertical-align: middle;\n",
       "    }\n",
       "\n",
       "    .dataframe tbody tr th {\n",
       "        vertical-align: top;\n",
       "    }\n",
       "\n",
       "    .dataframe thead th {\n",
       "        text-align: right;\n",
       "    }\n",
       "</style>\n",
       "<table border=\"1\" class=\"dataframe\">\n",
       "  <thead>\n",
       "    <tr style=\"text-align: right;\">\n",
       "      <th></th>\n",
       "      <th>season</th>\n",
       "      <th>yr</th>\n",
       "      <th>mnth</th>\n",
       "      <th>hr</th>\n",
       "      <th>holiday</th>\n",
       "      <th>weekday</th>\n",
       "      <th>workingday</th>\n",
       "      <th>weathersit</th>\n",
       "      <th>temp</th>\n",
       "      <th>atemp</th>\n",
       "      <th>hum</th>\n",
       "      <th>windspeed</th>\n",
       "      <th>cnt</th>\n",
       "    </tr>\n",
       "  </thead>\n",
       "  <tbody>\n",
       "    <tr>\n",
       "      <th>0</th>\n",
       "      <td>1</td>\n",
       "      <td>0</td>\n",
       "      <td>1</td>\n",
       "      <td>0</td>\n",
       "      <td>0</td>\n",
       "      <td>6</td>\n",
       "      <td>0</td>\n",
       "      <td>1</td>\n",
       "      <td>-1.334648</td>\n",
       "      <td>-1.093281</td>\n",
       "      <td>0.947372</td>\n",
       "      <td>-1.553889</td>\n",
       "      <td>-0.956339</td>\n",
       "    </tr>\n",
       "    <tr>\n",
       "      <th>1</th>\n",
       "      <td>1</td>\n",
       "      <td>0</td>\n",
       "      <td>1</td>\n",
       "      <td>1</td>\n",
       "      <td>0</td>\n",
       "      <td>6</td>\n",
       "      <td>0</td>\n",
       "      <td>1</td>\n",
       "      <td>-1.438516</td>\n",
       "      <td>-1.181732</td>\n",
       "      <td>0.895539</td>\n",
       "      <td>-1.553889</td>\n",
       "      <td>-0.824022</td>\n",
       "    </tr>\n",
       "    <tr>\n",
       "      <th>2</th>\n",
       "      <td>1</td>\n",
       "      <td>0</td>\n",
       "      <td>1</td>\n",
       "      <td>2</td>\n",
       "      <td>0</td>\n",
       "      <td>6</td>\n",
       "      <td>0</td>\n",
       "      <td>1</td>\n",
       "      <td>-1.438516</td>\n",
       "      <td>-1.181732</td>\n",
       "      <td>0.895539</td>\n",
       "      <td>-1.553889</td>\n",
       "      <td>-0.868128</td>\n",
       "    </tr>\n",
       "    <tr>\n",
       "      <th>3</th>\n",
       "      <td>1</td>\n",
       "      <td>0</td>\n",
       "      <td>1</td>\n",
       "      <td>3</td>\n",
       "      <td>0</td>\n",
       "      <td>6</td>\n",
       "      <td>0</td>\n",
       "      <td>1</td>\n",
       "      <td>-1.334648</td>\n",
       "      <td>-1.093281</td>\n",
       "      <td>0.636370</td>\n",
       "      <td>-1.553889</td>\n",
       "      <td>-0.972879</td>\n",
       "    </tr>\n",
       "    <tr>\n",
       "      <th>4</th>\n",
       "      <td>1</td>\n",
       "      <td>0</td>\n",
       "      <td>1</td>\n",
       "      <td>4</td>\n",
       "      <td>0</td>\n",
       "      <td>6</td>\n",
       "      <td>0</td>\n",
       "      <td>1</td>\n",
       "      <td>-1.334648</td>\n",
       "      <td>-1.093281</td>\n",
       "      <td>0.636370</td>\n",
       "      <td>-1.553889</td>\n",
       "      <td>-1.039037</td>\n",
       "    </tr>\n",
       "  </tbody>\n",
       "</table>\n",
       "</div>"
      ],
      "text/plain": [
       "  season yr mnth hr holiday weekday workingday weathersit      temp     atemp  \\\n",
       "0      1  0    1  0       0       6          0          1 -1.334648 -1.093281   \n",
       "1      1  0    1  1       0       6          0          1 -1.438516 -1.181732   \n",
       "2      1  0    1  2       0       6          0          1 -1.438516 -1.181732   \n",
       "3      1  0    1  3       0       6          0          1 -1.334648 -1.093281   \n",
       "4      1  0    1  4       0       6          0          1 -1.334648 -1.093281   \n",
       "\n",
       "        hum  windspeed       cnt  \n",
       "0  0.947372  -1.553889 -0.956339  \n",
       "1  0.895539  -1.553889 -0.824022  \n",
       "2  0.895539  -1.553889 -0.868128  \n",
       "3  0.636370  -1.553889 -0.972879  \n",
       "4  0.636370  -1.553889 -1.039037  "
      ]
     },
     "execution_count": 240,
     "metadata": {},
     "output_type": "execute_result"
    }
   ],
   "source": [
    "# Drop the following columns from your dataset: casual, registered, dteday, instant.\n",
    "bikeDF = bikeDF.drop(columns = ['casual', 'registered', 'dteday', 'instant'])\n",
    "bikeDF.head()"
   ]
  },
  {
   "cell_type": "code",
   "execution_count": 241,
   "id": "a7a17e85",
   "metadata": {},
   "outputs": [
    {
     "data": {
      "text/plain": [
       "<AxesSubplot:xlabel='cnt', ylabel='Count'>"
      ]
     },
     "execution_count": 241,
     "metadata": {},
     "output_type": "execute_result"
    },
    {
     "data": {
      "image/png": "[encoded data removed]",
      "text/plain": [
       "<Figure size 432x288 with 1 Axes>"
      ]
     },
     "metadata": {
      "needs_background": "light"
     },
     "output_type": "display_data"
    }
   ],
   "source": [
    "# Implement a histogram of the count column. What can be said based on the resulting distribution?\n",
    "sns.histplot(bikeDF, x=\"cnt\", bins = 6)"
   ]
  },
  {
   "cell_type": "code",
   "execution_count": 242,
   "id": "c0ca13b4",
   "metadata": {},
   "outputs": [
    {
     "name": "stdout",
     "output_type": "stream",
     "text": [
      "Sizes of training and test sets: [11643, 5736]\n"
     ]
    }
   ],
   "source": [
    "# Implement a train/test split with a test size of 33%.\n",
    "bikeDF_train, bikeDF_test = train_test_split(bikeDF, test_size=0.33)\n",
    "print(\"Sizes of training and test sets:\", [len(elem) for elem in [bikeDF_train, bikeDF_test]])\n",
    "\n",
    "bikeDF_train_labels = bikeDF_train['cnt']\n",
    "bikeDF_train_features = bikeDF_train.drop(columns = ['cnt'])"
   ]
  },
  {
   "cell_type": "code",
   "execution_count": 243,
   "id": "0ab3671e",
   "metadata": {},
   "outputs": [
    {
     "name": "stdout",
     "output_type": "stream",
     "text": [
      "LR RMSE:  0.7787901545923686\n",
      "LR r2:  0.3872689247913913\n",
      "\n",
      "Scores: [0.78113734 0.81964437 0.75889552 0.75588213 0.78129423 0.80725186\n",
      " 0.76430253 0.79042591 0.76524426 0.76912   ]\n",
      "\n",
      "Mean: 0.7793198153051073\n",
      "SD: 0.020077272476021927\n"
     ]
    }
   ],
   "source": [
    "# Implement a baseline linear regression algorithm. Use cross-validation to output r2 and mse. Calculate RMSE base on mse. \n",
    "# Document your scores.\n",
    "\n",
    "lr = LinearRegression()\n",
    "lr.fit(bikeDF_train_features, bikeDF_train_labels)\n",
    "lrPreds = lr.predict(bikeDF_train_features)\n",
    "\n",
    "lr_mse = mean_squared_error(bikeDF_train_labels, lrPreds)\n",
    "lr_rmse = np.sqrt(lr_mse)\n",
    "print('LR RMSE: ', lr_rmse)\n",
    "\n",
    "lr_r2 = r2_score(bikeDF_train_labels, lrPreds)\n",
    "print('LR r2: ', lr_r2)\n",
    "\n",
    "scores = cross_val_score(lr, bikeDF_train_features, bikeDF_train_labels, scoring = 'neg_mean_squared_error', cv = 10)\n",
    "\n",
    "rmse_scores = np.sqrt(-scores)\n",
    "print('\\nScores:', rmse_scores)\n",
    "\n",
    "print('\\nMean:', rmse_scores.mean())\n",
    "print('SD:', rmse_scores.std())"
   ]
  },
  {
   "cell_type": "markdown",
   "id": "d72a9c9a",
   "metadata": {},
   "source": [
    "### Assignment 4, Part 3: Model Training (Hint: trained all of these with a for loop and added my results to a PrettyTable.)\n",
    "- Create one-hot-encoded values for your categorical columns using get_dummies and add them to your source dataset.\n",
    "- Drop the original categorical columns from your source dataset.\n",
    "- Do a test/train split based on your new source dataset. Implement and fit a new linear model on your new training set.\n",
    "- What are the new values for r2, mse, and rmse?\n",
    "- Implement and score a decision tree regressor with random_state=0.\n",
    "- Implement and score a RandomForestRegressor with random_state=0 and n_esitmators=30.\n",
    "- Implement and score an SGDRegressor with max_iter=1000 and tol=1e-3).\n",
    "- Implement and score a Lasso Regressor with alpha=0.1.\n",
    "- Implement and score an ElasticNet Regressor with random_state=0.\n",
    "- Implement and score a Ridge Regressor with alpha=0.5.\n",
    "- Implement and score a BaggingRegressor."
   ]
  },
  {
   "cell_type": "code",
   "execution_count": 244,
   "id": "b491e8e9",
   "metadata": {},
   "outputs": [
    {
     "data": {
      "text/html": [
       "<div>\n",
       "<style scoped>\n",
       "    .dataframe tbody tr th:only-of-type {\n",
       "        vertical-align: middle;\n",
       "    }\n",
       "\n",
       "    .dataframe tbody tr th {\n",
       "        vertical-align: top;\n",
       "    }\n",
       "\n",
       "    .dataframe thead th {\n",
       "        text-align: right;\n",
       "    }\n",
       "</style>\n",
       "<table border=\"1\" class=\"dataframe\">\n",
       "  <thead>\n",
       "    <tr style=\"text-align: right;\">\n",
       "      <th></th>\n",
       "      <th>season</th>\n",
       "      <th>yr</th>\n",
       "      <th>mnth</th>\n",
       "      <th>hr</th>\n",
       "      <th>holiday</th>\n",
       "      <th>weekday</th>\n",
       "      <th>workingday</th>\n",
       "      <th>weathersit</th>\n",
       "      <th>temp</th>\n",
       "      <th>atemp</th>\n",
       "      <th>hum</th>\n",
       "      <th>windspeed</th>\n",
       "      <th>cnt</th>\n",
       "    </tr>\n",
       "  </thead>\n",
       "  <tbody>\n",
       "    <tr>\n",
       "      <th>0</th>\n",
       "      <td>1</td>\n",
       "      <td>0</td>\n",
       "      <td>1</td>\n",
       "      <td>0</td>\n",
       "      <td>0</td>\n",
       "      <td>6</td>\n",
       "      <td>0</td>\n",
       "      <td>1</td>\n",
       "      <td>-1.334648</td>\n",
       "      <td>-1.093281</td>\n",
       "      <td>0.947372</td>\n",
       "      <td>-1.553889</td>\n",
       "      <td>-0.956339</td>\n",
       "    </tr>\n",
       "    <tr>\n",
       "      <th>1</th>\n",
       "      <td>1</td>\n",
       "      <td>0</td>\n",
       "      <td>1</td>\n",
       "      <td>1</td>\n",
       "      <td>0</td>\n",
       "      <td>6</td>\n",
       "      <td>0</td>\n",
       "      <td>1</td>\n",
       "      <td>-1.438516</td>\n",
       "      <td>-1.181732</td>\n",
       "      <td>0.895539</td>\n",
       "      <td>-1.553889</td>\n",
       "      <td>-0.824022</td>\n",
       "    </tr>\n",
       "    <tr>\n",
       "      <th>2</th>\n",
       "      <td>1</td>\n",
       "      <td>0</td>\n",
       "      <td>1</td>\n",
       "      <td>2</td>\n",
       "      <td>0</td>\n",
       "      <td>6</td>\n",
       "      <td>0</td>\n",
       "      <td>1</td>\n",
       "      <td>-1.438516</td>\n",
       "      <td>-1.181732</td>\n",
       "      <td>0.895539</td>\n",
       "      <td>-1.553889</td>\n",
       "      <td>-0.868128</td>\n",
       "    </tr>\n",
       "    <tr>\n",
       "      <th>3</th>\n",
       "      <td>1</td>\n",
       "      <td>0</td>\n",
       "      <td>1</td>\n",
       "      <td>3</td>\n",
       "      <td>0</td>\n",
       "      <td>6</td>\n",
       "      <td>0</td>\n",
       "      <td>1</td>\n",
       "      <td>-1.334648</td>\n",
       "      <td>-1.093281</td>\n",
       "      <td>0.636370</td>\n",
       "      <td>-1.553889</td>\n",
       "      <td>-0.972879</td>\n",
       "    </tr>\n",
       "    <tr>\n",
       "      <th>4</th>\n",
       "      <td>1</td>\n",
       "      <td>0</td>\n",
       "      <td>1</td>\n",
       "      <td>4</td>\n",
       "      <td>0</td>\n",
       "      <td>6</td>\n",
       "      <td>0</td>\n",
       "      <td>1</td>\n",
       "      <td>-1.334648</td>\n",
       "      <td>-1.093281</td>\n",
       "      <td>0.636370</td>\n",
       "      <td>-1.553889</td>\n",
       "      <td>-1.039037</td>\n",
       "    </tr>\n",
       "  </tbody>\n",
       "</table>\n",
       "</div>"
      ],
      "text/plain": [
       "  season yr mnth hr holiday weekday workingday weathersit      temp     atemp  \\\n",
       "0      1  0    1  0       0       6          0          1 -1.334648 -1.093281   \n",
       "1      1  0    1  1       0       6          0          1 -1.438516 -1.181732   \n",
       "2      1  0    1  2       0       6          0          1 -1.438516 -1.181732   \n",
       "3      1  0    1  3       0       6          0          1 -1.334648 -1.093281   \n",
       "4      1  0    1  4       0       6          0          1 -1.334648 -1.093281   \n",
       "\n",
       "        hum  windspeed       cnt  \n",
       "0  0.947372  -1.553889 -0.956339  \n",
       "1  0.895539  -1.553889 -0.824022  \n",
       "2  0.895539  -1.553889 -0.868128  \n",
       "3  0.636370  -1.553889 -0.972879  \n",
       "4  0.636370  -1.553889 -1.039037  "
      ]
     },
     "execution_count": 244,
     "metadata": {},
     "output_type": "execute_result"
    }
   ],
   "source": [
    "bikeDF.head()"
   ]
  },
  {
   "cell_type": "code",
   "execution_count": 248,
   "id": "44e47e8d",
   "metadata": {},
   "outputs": [
    {
     "data": {
      "text/html": [
       "<div>\n",
       "<style scoped>\n",
       "    .dataframe tbody tr th:only-of-type {\n",
       "        vertical-align: middle;\n",
       "    }\n",
       "\n",
       "    .dataframe tbody tr th {\n",
       "        vertical-align: top;\n",
       "    }\n",
       "\n",
       "    .dataframe thead th {\n",
       "        text-align: right;\n",
       "    }\n",
       "</style>\n",
       "<table border=\"1\" class=\"dataframe\">\n",
       "  <thead>\n",
       "    <tr style=\"text-align: right;\">\n",
       "      <th></th>\n",
       "      <th>mnth</th>\n",
       "      <th>temp</th>\n",
       "      <th>atemp</th>\n",
       "      <th>hum</th>\n",
       "      <th>windspeed</th>\n",
       "      <th>cnt</th>\n",
       "      <th>season_1</th>\n",
       "      <th>season_2</th>\n",
       "      <th>season_3</th>\n",
       "      <th>season_4</th>\n",
       "      <th>...</th>\n",
       "      <th>hr_23</th>\n",
       "      <th>holiday_0</th>\n",
       "      <th>holiday_1</th>\n",
       "      <th>weekday_0</th>\n",
       "      <th>weekday_1</th>\n",
       "      <th>weekday_2</th>\n",
       "      <th>weekday_3</th>\n",
       "      <th>weekday_4</th>\n",
       "      <th>weekday_5</th>\n",
       "      <th>weekday_6</th>\n",
       "    </tr>\n",
       "  </thead>\n",
       "  <tbody>\n",
       "    <tr>\n",
       "      <th>0</th>\n",
       "      <td>1</td>\n",
       "      <td>-1.334648</td>\n",
       "      <td>-1.093281</td>\n",
       "      <td>0.947372</td>\n",
       "      <td>-1.553889</td>\n",
       "      <td>-0.956339</td>\n",
       "      <td>1</td>\n",
       "      <td>0</td>\n",
       "      <td>0</td>\n",
       "      <td>0</td>\n",
       "      <td>...</td>\n",
       "      <td>0</td>\n",
       "      <td>1</td>\n",
       "      <td>0</td>\n",
       "      <td>0</td>\n",
       "      <td>0</td>\n",
       "      <td>0</td>\n",
       "      <td>0</td>\n",
       "      <td>0</td>\n",
       "      <td>0</td>\n",
       "      <td>1</td>\n",
       "    </tr>\n",
       "    <tr>\n",
       "      <th>1</th>\n",
       "      <td>1</td>\n",
       "      <td>-1.438516</td>\n",
       "      <td>-1.181732</td>\n",
       "      <td>0.895539</td>\n",
       "      <td>-1.553889</td>\n",
       "      <td>-0.824022</td>\n",
       "      <td>1</td>\n",
       "      <td>0</td>\n",
       "      <td>0</td>\n",
       "      <td>0</td>\n",
       "      <td>...</td>\n",
       "      <td>0</td>\n",
       "      <td>1</td>\n",
       "      <td>0</td>\n",
       "      <td>0</td>\n",
       "      <td>0</td>\n",
       "      <td>0</td>\n",
       "      <td>0</td>\n",
       "      <td>0</td>\n",
       "      <td>0</td>\n",
       "      <td>1</td>\n",
       "    </tr>\n",
       "    <tr>\n",
       "      <th>2</th>\n",
       "      <td>1</td>\n",
       "      <td>-1.438516</td>\n",
       "      <td>-1.181732</td>\n",
       "      <td>0.895539</td>\n",
       "      <td>-1.553889</td>\n",
       "      <td>-0.868128</td>\n",
       "      <td>1</td>\n",
       "      <td>0</td>\n",
       "      <td>0</td>\n",
       "      <td>0</td>\n",
       "      <td>...</td>\n",
       "      <td>0</td>\n",
       "      <td>1</td>\n",
       "      <td>0</td>\n",
       "      <td>0</td>\n",
       "      <td>0</td>\n",
       "      <td>0</td>\n",
       "      <td>0</td>\n",
       "      <td>0</td>\n",
       "      <td>0</td>\n",
       "      <td>1</td>\n",
       "    </tr>\n",
       "    <tr>\n",
       "      <th>3</th>\n",
       "      <td>1</td>\n",
       "      <td>-1.334648</td>\n",
       "      <td>-1.093281</td>\n",
       "      <td>0.636370</td>\n",
       "      <td>-1.553889</td>\n",
       "      <td>-0.972879</td>\n",
       "      <td>1</td>\n",
       "      <td>0</td>\n",
       "      <td>0</td>\n",
       "      <td>0</td>\n",
       "      <td>...</td>\n",
       "      <td>0</td>\n",
       "      <td>1</td>\n",
       "      <td>0</td>\n",
       "      <td>0</td>\n",
       "      <td>0</td>\n",
       "      <td>0</td>\n",
       "      <td>0</td>\n",
       "      <td>0</td>\n",
       "      <td>0</td>\n",
       "      <td>1</td>\n",
       "    </tr>\n",
       "    <tr>\n",
       "      <th>4</th>\n",
       "      <td>1</td>\n",
       "      <td>-1.334648</td>\n",
       "      <td>-1.093281</td>\n",
       "      <td>0.636370</td>\n",
       "      <td>-1.553889</td>\n",
       "      <td>-1.039037</td>\n",
       "      <td>1</td>\n",
       "      <td>0</td>\n",
       "      <td>0</td>\n",
       "      <td>0</td>\n",
       "      <td>...</td>\n",
       "      <td>0</td>\n",
       "      <td>1</td>\n",
       "      <td>0</td>\n",
       "      <td>0</td>\n",
       "      <td>0</td>\n",
       "      <td>0</td>\n",
       "      <td>0</td>\n",
       "      <td>0</td>\n",
       "      <td>0</td>\n",
       "      <td>1</td>\n",
       "    </tr>\n",
       "  </tbody>\n",
       "</table>\n",
       "<p>5 rows × 51 columns</p>\n",
       "</div>"
      ],
      "text/plain": [
       "  mnth      temp     atemp       hum  windspeed       cnt  season_1  season_2  \\\n",
       "0    1 -1.334648 -1.093281  0.947372  -1.553889 -0.956339         1         0   \n",
       "1    1 -1.438516 -1.181732  0.895539  -1.553889 -0.824022         1         0   \n",
       "2    1 -1.438516 -1.181732  0.895539  -1.553889 -0.868128         1         0   \n",
       "3    1 -1.334648 -1.093281  0.636370  -1.553889 -0.972879         1         0   \n",
       "4    1 -1.334648 -1.093281  0.636370  -1.553889 -1.039037         1         0   \n",
       "\n",
       "   season_3  season_4  ...  hr_23  holiday_0  holiday_1  weekday_0  weekday_1  \\\n",
       "0         0         0  ...      0          1          0          0          0   \n",
       "1         0         0  ...      0          1          0          0          0   \n",
       "2         0         0  ...      0          1          0          0          0   \n",
       "3         0         0  ...      0          1          0          0          0   \n",
       "4         0         0  ...      0          1          0          0          0   \n",
       "\n",
       "   weekday_2  weekday_3  weekday_4  weekday_5  weekday_6  \n",
       "0          0          0          0          0          1  \n",
       "1          0          0          0          0          1  \n",
       "2          0          0          0          0          1  \n",
       "3          0          0          0          0          1  \n",
       "4          0          0          0          0          1  \n",
       "\n",
       "[5 rows x 51 columns]"
      ]
     },
     "execution_count": 248,
     "metadata": {},
     "output_type": "execute_result"
    }
   ],
   "source": [
    "# Create one-hot-encoded values for your categorical columns using get_dummies and add them to your source dataset. \n",
    "# Drop the original categorical columns from your source dataset.\n",
    "bikeDF_dummy = pd.get_dummies(bikeDF, columns = ['season', 'workingday', 'weathersit', 'yr', 'hr', 'holiday', 'weekday'])\n",
    "bikeDF_dummy.head()"
   ]
  },
  {
   "cell_type": "code",
   "execution_count": 299,
   "id": "06f6af04",
   "metadata": {},
   "outputs": [
    {
     "name": "stdout",
     "output_type": "stream",
     "text": [
      "Sizes of training and test sets: [11643, 5736]\n"
     ]
    }
   ],
   "source": [
    "# Do a test/train split based on your new source dataset. \n",
    "train, test = train_test_split(bikeDF_dummy, test_size=0.33)\n",
    "print(\"Sizes of training and test sets:\", [len(elem) for elem in [train, test]])\n",
    "\n",
    "train_labels = train['cnt']\n",
    "train_features = train.drop(columns = ['cnt'])\n",
    "\n",
    "test_labels = test['cnt']\n",
    "test_features = test.drop(columns = ['cnt'])"
   ]
  },
  {
   "cell_type": "code",
   "execution_count": 252,
   "id": "f1a0aeeb",
   "metadata": {},
   "outputs": [],
   "source": [
    "# Implement and fit a new linear model on your new training set.\n",
    "\n",
    "lr = LinearRegression()\n",
    "lr.fit(train_features, train_labels)\n",
    "lrPreds = lr.predict(train_features)"
   ]
  },
  {
   "cell_type": "code",
   "execution_count": 253,
   "id": "f7969cdc",
   "metadata": {},
   "outputs": [
    {
     "name": "stdout",
     "output_type": "stream",
     "text": [
      "LR MSE:  0.31086283895101857\n",
      "LR RMSE:  0.5575507501125064\n",
      "LR r2:  0.6852959320829703\n"
     ]
    }
   ],
   "source": [
    "# What are the new values for r2, mse, and rmse?\n",
    "lr_mse = mean_squared_error(train_labels, lrPreds)\n",
    "lr_rmse = np.sqrt(lr_mse)\n",
    "print('LR MSE: ', lr_mse)\n",
    "print('LR RMSE: ', lr_rmse)\n",
    "\n",
    "lr_r2 = r2_score(train_labels, lrPreds)\n",
    "print('LR r2: ', lr_r2)"
   ]
  },
  {
   "cell_type": "code",
   "execution_count": 254,
   "id": "a55ab310",
   "metadata": {},
   "outputs": [
    {
     "name": "stdout",
     "output_type": "stream",
     "text": [
      "Decision Tree MSE:  6.526568744441402e-08\n",
      "Decision Tree RMSE:  0.00025547150025866686\n",
      "Decision Tree r2:  0.9999999339278461\n"
     ]
    }
   ],
   "source": [
    "# Implement and score a decision tree regressor with random_state=0.\n",
    "tree_reg = DecisionTreeRegressor(random_state=0).fit(train_features, train_labels)\n",
    "treePreds = tree_reg.predict(train_features)\n",
    "\n",
    "tree_mse = mean_squared_error(train_labels, treePreds)\n",
    "tree_rmse = np.sqrt(tree_mse)\n",
    "print('Decision Tree MSE: ', tree_mse)\n",
    "print('Decision Tree RMSE: ', tree_rmse)\n",
    "\n",
    "tree_r2 = r2_score(train_labels, treePreds)\n",
    "print('Decision Tree r2: ', tree_r2)"
   ]
  },
  {
   "cell_type": "code",
   "execution_count": 257,
   "id": "ccc18a08",
   "metadata": {},
   "outputs": [
    {
     "name": "stdout",
     "output_type": "stream",
     "text": [
      "Random Forest MSE:  0.012637097414378533\n",
      "Random Forest RMSE:  0.11241484516903688\n",
      "Randomm Forest r2:  0.9872067501654794\n"
     ]
    }
   ],
   "source": [
    "# Implement and score a RandomForestRegressor with random_state=0 and n_esitmators=30.\n",
    "forest = RandomForestRegressor(random_state = 0, n_estimators = 30).fit(train_features, train_labels)\n",
    "forestPreds = forest.predict(train_features)\n",
    "\n",
    "forest_mse = mean_squared_error(train_labels, forestPreds)\n",
    "forest_rmse = np.sqrt(forest_mse)\n",
    "print('Random Forest MSE: ', forest_mse)\n",
    "print('Random Forest RMSE: ', forest_rmse)\n",
    "\n",
    "forest_r2 = r2_score(train_labels, forestPreds)\n",
    "print('Randomm Forest r2: ', forest_r2)"
   ]
  },
  {
   "cell_type": "code",
   "execution_count": 263,
   "id": "d90383e1",
   "metadata": {},
   "outputs": [
    {
     "name": "stdout",
     "output_type": "stream",
     "text": [
      "SGD MSE:  0.3171542926554262\n",
      "SGD RMSE:  0.5631645342663423\n",
      "SGD r2:  0.6789267369724518\n"
     ]
    }
   ],
   "source": [
    "# Implement and score an SGDRegressor with max_iter=1000 and tol=1e-3).\n",
    "sgd = SGDRegressor(max_iter=1000, tol=1e-3).fit(train_features, train_labels)\n",
    "sgdPreds = sgd.predict(train_features)\n",
    "\n",
    "sgd_mse = mean_squared_error(train_labels, sgdPreds)\n",
    "sgd_rmse = np.sqrt(sgd_mse)\n",
    "print('SGD MSE: ', sgd_mse)\n",
    "print('SGD RMSE: ', sgd_rmse)\n",
    "\n",
    "sgd_r2 = r2_score(train_labels, sgdPreds)\n",
    "print('SGD r2: ', sgd_r2)"
   ]
  },
  {
   "cell_type": "code",
   "execution_count": 265,
   "id": "04c9d7ef",
   "metadata": {},
   "outputs": [
    {
     "name": "stdout",
     "output_type": "stream",
     "text": [
      "Lasso MSE:  0.744158346215647\n",
      "Lasso RMSE:  0.8626461303545313\n",
      "Lasso r2:  0.2466463359894433\n"
     ]
    }
   ],
   "source": [
    "# Implement and score a Lasso Regressor with alpha=0.1.\n",
    "lasso = Lasso(alpha = 0.1).fit(train_features, train_labels)\n",
    "lassoPreds = lasso.predict(train_features)\n",
    "\n",
    "lasso_mse = mean_squared_error(train_labels, lassoPreds)\n",
    "lasso_rmse = np.sqrt(lasso_mse)\n",
    "print('Lasso MSE: ', lasso_mse)\n",
    "print('Lasso RMSE: ', lasso_rmse)\n",
    "\n",
    "lasso_r2 = r2_score(train_labels, lassoPreds)\n",
    "print('Lasso r2: ', lasso_r2)"
   ]
  },
  {
   "cell_type": "code",
   "execution_count": 266,
   "id": "bd99bc2a",
   "metadata": {},
   "outputs": [
    {
     "name": "stdout",
     "output_type": "stream",
     "text": [
      "Elastic Net MSE:  0.9877941553427144\n",
      "Elastic Net RMSE:  0.9938783403126936\n",
      "Elastic Net r2:  0.0\n"
     ]
    }
   ],
   "source": [
    "# Implement and score an ElasticNet Regressor with random_state=0.\n",
    "elastic = ElasticNet(random_state = 0).fit(train_features, train_labels)\n",
    "elasticPreds = elastic.predict(train_features)\n",
    "\n",
    "elastic_mse = mean_squared_error(train_labels, elasticPreds)\n",
    "elastic_rmse = np.sqrt(elastic_mse)\n",
    "print('Elastic Net MSE: ', elastic_mse)\n",
    "print('Elastic Net RMSE: ', elastic_rmse)\n",
    "\n",
    "elastic_r2 = r2_score(train_labels, elasticPreds)\n",
    "print('Elastic Net r2: ', elastic_r2)"
   ]
  },
  {
   "cell_type": "code",
   "execution_count": 267,
   "id": "bf16c9e0",
   "metadata": {},
   "outputs": [
    {
     "name": "stdout",
     "output_type": "stream",
     "text": [
      "Ridge MSE:  0.3108645367129648\n",
      "Ridge RMSE:  0.5575522726282844\n",
      "Ridge r2:  0.685294213342343\n"
     ]
    }
   ],
   "source": [
    "# Implement and score a Ridge Regressor with alpha=0.5.\n",
    "ridge = Ridge(alpha = 0.5).fit(train_features, train_labels)\n",
    "ridgePreds = ridge.predict(train_features)\n",
    "\n",
    "ridge_mse = mean_squared_error(train_labels, ridgePreds)\n",
    "ridge_rmse = np.sqrt(ridge_mse)\n",
    "print('Ridge MSE: ', ridge_mse)\n",
    "print('Ridge RMSE: ', ridge_rmse)\n",
    "\n",
    "ridge_r2 = r2_score(train_labels, ridgePreds)\n",
    "print('Ridge r2: ', ridge_r2)"
   ]
  },
  {
   "cell_type": "code",
   "execution_count": 269,
   "id": "e78590d0",
   "metadata": {},
   "outputs": [
    {
     "name": "stdout",
     "output_type": "stream",
     "text": [
      "Bagging MSE:  0.01689549167933682\n",
      "Bagging RMSE:  0.12998265914858342\n",
      "Bagging r2:  0.9828957363353957\n"
     ]
    }
   ],
   "source": [
    "# Implement and score a BaggingRegressor.\n",
    "br = BaggingRegressor().fit(train_features, train_labels)\n",
    "brPreds = br.predict(train_features)\n",
    "\n",
    "br_mse = mean_squared_error(train_labels, brPreds)\n",
    "br_rmse = np.sqrt(br_mse)\n",
    "print('Bagging MSE: ', br_mse)\n",
    "print('Bagging RMSE: ', br_rmse)\n",
    "\n",
    "br_r2 = r2_score(train_labels, brPreds)\n",
    "print('Bagging r2: ', br_r2)"
   ]
  },
  {
   "cell_type": "markdown",
   "id": "985fb126",
   "metadata": {},
   "source": [
    "### Assignment 4, Part 4: Model Tuning\n",
    "- Take the top three performing models and implement cross-validation on them.\n",
    "    - Hint: They should be Decision Tree Regressor, RandomForestRegressor, and BaggingRegressor.\n",
    "- Take your top performing model (mine was the RandomForestRegressor) and do a randomize search cv with 20 iterations and three folds.\n",
    "    - I found it is best to set your n_jobs = (# of cpu’s you have – 1). This took about 10 minutes on my MacBook with 4 CPUs and 8 GB of memory.\n",
    "- Your param distributions should include the following:\n",
    "    - Bootstrap: true, false\n",
    "    - Max_depth: 10-110, number of bins 11\n",
    "    - Max_features: auto, sqrt\n",
    "    - Min_samples_split: 2,5,10\n",
    "    - Min_samples_leaf: 1,2,4\n",
    "    - N_estimators: 200 – 2000, number of bins 10\n",
    "- Take your best_estimator_ and see how it compares by doing cross_vals for r2, mse, and calculating rmse.\n",
    "- Finally, run predictions on your test set with this model, and see how your r2 score and RMSE look."
   ]
  },
  {
   "cell_type": "code",
   "execution_count": 271,
   "id": "660c323d",
   "metadata": {},
   "outputs": [
    {
     "name": "stdout",
     "output_type": "stream",
     "text": [
      "\n",
      "Scores: [0.43187578 0.3773094  0.38742748 0.400786   0.39077234 0.42208875\n",
      " 0.38389914 0.38672982 0.44977734 0.41638981]\n",
      "\n",
      "Mean: 0.4047055862459503\n",
      "SD: 0.02285387643192476\n"
     ]
    }
   ],
   "source": [
    "# Implement cross-validation on Decision Tree Regressor.\n",
    "tree_scores = cross_val_score(tree_reg, train_features, train_labels, scoring = 'neg_mean_squared_error', cv = 10)\n",
    "\n",
    "tree_rmse_scores = np.sqrt(-tree_scores)\n",
    "print('\\nScores:', tree_rmse_scores)\n",
    "\n",
    "print('\\nMean:', tree_rmse_scores.mean())\n",
    "print('SD:', tree_rmse_scores.std())"
   ]
  },
  {
   "cell_type": "code",
   "execution_count": 273,
   "id": "fd81b049",
   "metadata": {},
   "outputs": [
    {
     "name": "stdout",
     "output_type": "stream",
     "text": [
      "\n",
      "Scores: [0.30510872 0.27059312 0.29441554 0.3030161  0.27493422 0.31767606\n",
      " 0.28574748 0.2930625  0.31272227 0.28983978]\n",
      "\n",
      "Mean: 0.2947115791656528\n",
      "SD: 0.014520875448473606\n"
     ]
    }
   ],
   "source": [
    "# Implement cross-validation on Random Forest Regressor.\n",
    "forest_scores = cross_val_score(forest, train_features, train_labels, scoring = 'neg_mean_squared_error', cv = 10)\n",
    "\n",
    "forest_rmse_scores = np.sqrt(-forest_scores)\n",
    "print('\\nScores:', forest_rmse_scores)\n",
    "\n",
    "print('\\nMean:', forest_rmse_scores.mean())\n",
    "print('SD:', forest_rmse_scores.std())"
   ]
  },
  {
   "cell_type": "code",
   "execution_count": 274,
   "id": "66c5852b",
   "metadata": {},
   "outputs": [
    {
     "name": "stdout",
     "output_type": "stream",
     "text": [
      "\n",
      "Scores: [0.31428495 0.2738204  0.3046857  0.30970287 0.28385206 0.32123782\n",
      " 0.3083379  0.31453054 0.33985381 0.30024182]\n",
      "\n",
      "Mean: 0.307054786483285\n",
      "SD: 0.01757462655691078\n"
     ]
    }
   ],
   "source": [
    "# Implement cross-validation on Bagging Regressor.\n",
    "br_scores = cross_val_score(br, train_features, train_labels, scoring = 'neg_mean_squared_error', cv = 10)\n",
    "\n",
    "br_rmse_scores = np.sqrt(-br_scores)\n",
    "print('\\nScores:', br_rmse_scores)\n",
    "\n",
    "print('\\nMean:', br_rmse_scores.mean())\n",
    "print('SD:', br_rmse_scores.std())"
   ]
  },
  {
   "cell_type": "code",
   "execution_count": 290,
   "id": "b55f8852",
   "metadata": {},
   "outputs": [
    {
     "name": "stderr",
     "output_type": "stream",
     "text": [
      "/mnt/c/users/rainb/desktop/scripts/COMP4447/dst1_env/lib/python3.8/site-packages/sklearn/ensemble/_forest.py:416: FutureWarning: `max_features='auto'` has been deprecated in 1.1 and will be removed in 1.3. To keep the past behaviour, explicitly set `max_features=1.0` or remove this parameter as it is also the default value for RandomForestRegressors and ExtraTreesRegressors.\n",
      "  warn(\n",
      "/mnt/c/users/rainb/desktop/scripts/COMP4447/dst1_env/lib/python3.8/site-packages/sklearn/ensemble/_forest.py:416: FutureWarning: `max_features='auto'` has been deprecated in 1.1 and will be removed in 1.3. To keep the past behaviour, explicitly set `max_features=1.0` or remove this parameter as it is also the default value for RandomForestRegressors and ExtraTreesRegressors.\n",
      "  warn(\n",
      "/mnt/c/users/rainb/desktop/scripts/COMP4447/dst1_env/lib/python3.8/site-packages/sklearn/ensemble/_forest.py:416: FutureWarning: `max_features='auto'` has been deprecated in 1.1 and will be removed in 1.3. To keep the past behaviour, explicitly set `max_features=1.0` or remove this parameter as it is also the default value for RandomForestRegressors and ExtraTreesRegressors.\n",
      "  warn(\n",
      "/mnt/c/users/rainb/desktop/scripts/COMP4447/dst1_env/lib/python3.8/site-packages/sklearn/ensemble/_forest.py:416: FutureWarning: `max_features='auto'` has been deprecated in 1.1 and will be removed in 1.3. To keep the past behaviour, explicitly set `max_features=1.0` or remove this parameter as it is also the default value for RandomForestRegressors and ExtraTreesRegressors.\n",
      "  warn(\n",
      "/mnt/c/users/rainb/desktop/scripts/COMP4447/dst1_env/lib/python3.8/site-packages/sklearn/ensemble/_forest.py:416: FutureWarning: `max_features='auto'` has been deprecated in 1.1 and will be removed in 1.3. To keep the past behaviour, explicitly set `max_features=1.0` or remove this parameter as it is also the default value for RandomForestRegressors and ExtraTreesRegressors.\n",
      "  warn(\n",
      "/mnt/c/users/rainb/desktop/scripts/COMP4447/dst1_env/lib/python3.8/site-packages/sklearn/ensemble/_forest.py:416: FutureWarning: `max_features='auto'` has been deprecated in 1.1 and will be removed in 1.3. To keep the past behaviour, explicitly set `max_features=1.0` or remove this parameter as it is also the default value for RandomForestRegressors and ExtraTreesRegressors.\n",
      "  warn(\n",
      "/mnt/c/users/rainb/desktop/scripts/COMP4447/dst1_env/lib/python3.8/site-packages/sklearn/ensemble/_forest.py:416: FutureWarning: `max_features='auto'` has been deprecated in 1.1 and will be removed in 1.3. To keep the past behaviour, explicitly set `max_features=1.0` or remove this parameter as it is also the default value for RandomForestRegressors and ExtraTreesRegressors.\n",
      "  warn(\n",
      "/mnt/c/users/rainb/desktop/scripts/COMP4447/dst1_env/lib/python3.8/site-packages/sklearn/ensemble/_forest.py:416: FutureWarning: `max_features='auto'` has been deprecated in 1.1 and will be removed in 1.3. To keep the past behaviour, explicitly set `max_features=1.0` or remove this parameter as it is also the default value for RandomForestRegressors and ExtraTreesRegressors.\n",
      "  warn(\n",
      "/mnt/c/users/rainb/desktop/scripts/COMP4447/dst1_env/lib/python3.8/site-packages/sklearn/ensemble/_forest.py:416: FutureWarning: `max_features='auto'` has been deprecated in 1.1 and will be removed in 1.3. To keep the past behaviour, explicitly set `max_features=1.0` or remove this parameter as it is also the default value for RandomForestRegressors and ExtraTreesRegressors.\n",
      "  warn(\n",
      "/mnt/c/users/rainb/desktop/scripts/COMP4447/dst1_env/lib/python3.8/site-packages/sklearn/ensemble/_forest.py:416: FutureWarning: `max_features='auto'` has been deprecated in 1.1 and will be removed in 1.3. To keep the past behaviour, explicitly set `max_features=1.0` or remove this parameter as it is also the default value for RandomForestRegressors and ExtraTreesRegressors.\n",
      "  warn(\n",
      "/mnt/c/users/rainb/desktop/scripts/COMP4447/dst1_env/lib/python3.8/site-packages/sklearn/ensemble/_forest.py:416: FutureWarning: `max_features='auto'` has been deprecated in 1.1 and will be removed in 1.3. To keep the past behaviour, explicitly set `max_features=1.0` or remove this parameter as it is also the default value for RandomForestRegressors and ExtraTreesRegressors.\n",
      "  warn(\n",
      "/mnt/c/users/rainb/desktop/scripts/COMP4447/dst1_env/lib/python3.8/site-packages/sklearn/ensemble/_forest.py:416: FutureWarning: `max_features='auto'` has been deprecated in 1.1 and will be removed in 1.3. To keep the past behaviour, explicitly set `max_features=1.0` or remove this parameter as it is also the default value for RandomForestRegressors and ExtraTreesRegressors.\n",
      "  warn(\n",
      "/mnt/c/users/rainb/desktop/scripts/COMP4447/dst1_env/lib/python3.8/site-packages/sklearn/ensemble/_forest.py:416: FutureWarning: `max_features='auto'` has been deprecated in 1.1 and will be removed in 1.3. To keep the past behaviour, explicitly set `max_features=1.0` or remove this parameter as it is also the default value for RandomForestRegressors and ExtraTreesRegressors.\n",
      "  warn(\n",
      "/mnt/c/users/rainb/desktop/scripts/COMP4447/dst1_env/lib/python3.8/site-packages/sklearn/ensemble/_forest.py:416: FutureWarning: `max_features='auto'` has been deprecated in 1.1 and will be removed in 1.3. To keep the past behaviour, explicitly set `max_features=1.0` or remove this parameter as it is also the default value for RandomForestRegressors and ExtraTreesRegressors.\n",
      "  warn(\n",
      "/mnt/c/users/rainb/desktop/scripts/COMP4447/dst1_env/lib/python3.8/site-packages/sklearn/ensemble/_forest.py:416: FutureWarning: `max_features='auto'` has been deprecated in 1.1 and will be removed in 1.3. To keep the past behaviour, explicitly set `max_features=1.0` or remove this parameter as it is also the default value for RandomForestRegressors and ExtraTreesRegressors.\n",
      "  warn(\n",
      "/mnt/c/users/rainb/desktop/scripts/COMP4447/dst1_env/lib/python3.8/site-packages/sklearn/ensemble/_forest.py:416: FutureWarning: `max_features='auto'` has been deprecated in 1.1 and will be removed in 1.3. To keep the past behaviour, explicitly set `max_features=1.0` or remove this parameter as it is also the default value for RandomForestRegressors and ExtraTreesRegressors.\n",
      "  warn(\n",
      "/mnt/c/users/rainb/desktop/scripts/COMP4447/dst1_env/lib/python3.8/site-packages/sklearn/ensemble/_forest.py:416: FutureWarning: `max_features='auto'` has been deprecated in 1.1 and will be removed in 1.3. To keep the past behaviour, explicitly set `max_features=1.0` or remove this parameter as it is also the default value for RandomForestRegressors and ExtraTreesRegressors.\n",
      "  warn(\n",
      "/mnt/c/users/rainb/desktop/scripts/COMP4447/dst1_env/lib/python3.8/site-packages/sklearn/ensemble/_forest.py:416: FutureWarning: `max_features='auto'` has been deprecated in 1.1 and will be removed in 1.3. To keep the past behaviour, explicitly set `max_features=1.0` or remove this parameter as it is also the default value for RandomForestRegressors and ExtraTreesRegressors.\n",
      "  warn(\n",
      "/mnt/c/users/rainb/desktop/scripts/COMP4447/dst1_env/lib/python3.8/site-packages/sklearn/ensemble/_forest.py:416: FutureWarning: `max_features='auto'` has been deprecated in 1.1 and will be removed in 1.3. To keep the past behaviour, explicitly set `max_features=1.0` or remove this parameter as it is also the default value for RandomForestRegressors and ExtraTreesRegressors.\n",
      "  warn(\n",
      "/mnt/c/users/rainb/desktop/scripts/COMP4447/dst1_env/lib/python3.8/site-packages/sklearn/ensemble/_forest.py:416: FutureWarning: `max_features='auto'` has been deprecated in 1.1 and will be removed in 1.3. To keep the past behaviour, explicitly set `max_features=1.0` or remove this parameter as it is also the default value for RandomForestRegressors and ExtraTreesRegressors.\n",
      "  warn(\n",
      "/mnt/c/users/rainb/desktop/scripts/COMP4447/dst1_env/lib/python3.8/site-packages/sklearn/ensemble/_forest.py:416: FutureWarning: `max_features='auto'` has been deprecated in 1.1 and will be removed in 1.3. To keep the past behaviour, explicitly set `max_features=1.0` or remove this parameter as it is also the default value for RandomForestRegressors and ExtraTreesRegressors.\n",
      "  warn(\n",
      "/mnt/c/users/rainb/desktop/scripts/COMP4447/dst1_env/lib/python3.8/site-packages/sklearn/ensemble/_forest.py:416: FutureWarning: `max_features='auto'` has been deprecated in 1.1 and will be removed in 1.3. To keep the past behaviour, explicitly set `max_features=1.0` or remove this parameter as it is also the default value for RandomForestRegressors and ExtraTreesRegressors.\n",
      "  warn(\n"
     ]
    },
    {
     "name": "stderr",
     "output_type": "stream",
     "text": [
      "/mnt/c/users/rainb/desktop/scripts/COMP4447/dst1_env/lib/python3.8/site-packages/sklearn/ensemble/_forest.py:416: FutureWarning: `max_features='auto'` has been deprecated in 1.1 and will be removed in 1.3. To keep the past behaviour, explicitly set `max_features=1.0` or remove this parameter as it is also the default value for RandomForestRegressors and ExtraTreesRegressors.\n",
      "  warn(\n",
      "/mnt/c/users/rainb/desktop/scripts/COMP4447/dst1_env/lib/python3.8/site-packages/sklearn/ensemble/_forest.py:416: FutureWarning: `max_features='auto'` has been deprecated in 1.1 and will be removed in 1.3. To keep the past behaviour, explicitly set `max_features=1.0` or remove this parameter as it is also the default value for RandomForestRegressors and ExtraTreesRegressors.\n",
      "  warn(\n",
      "/mnt/c/users/rainb/desktop/scripts/COMP4447/dst1_env/lib/python3.8/site-packages/sklearn/ensemble/_forest.py:416: FutureWarning: `max_features='auto'` has been deprecated in 1.1 and will be removed in 1.3. To keep the past behaviour, explicitly set `max_features=1.0` or remove this parameter as it is also the default value for RandomForestRegressors and ExtraTreesRegressors.\n",
      "  warn(\n",
      "/mnt/c/users/rainb/desktop/scripts/COMP4447/dst1_env/lib/python3.8/site-packages/sklearn/ensemble/_forest.py:416: FutureWarning: `max_features='auto'` has been deprecated in 1.1 and will be removed in 1.3. To keep the past behaviour, explicitly set `max_features=1.0` or remove this parameter as it is also the default value for RandomForestRegressors and ExtraTreesRegressors.\n",
      "  warn(\n",
      "/mnt/c/users/rainb/desktop/scripts/COMP4447/dst1_env/lib/python3.8/site-packages/sklearn/ensemble/_forest.py:416: FutureWarning: `max_features='auto'` has been deprecated in 1.1 and will be removed in 1.3. To keep the past behaviour, explicitly set `max_features=1.0` or remove this parameter as it is also the default value for RandomForestRegressors and ExtraTreesRegressors.\n",
      "  warn(\n",
      "/mnt/c/users/rainb/desktop/scripts/COMP4447/dst1_env/lib/python3.8/site-packages/sklearn/ensemble/_forest.py:416: FutureWarning: `max_features='auto'` has been deprecated in 1.1 and will be removed in 1.3. To keep the past behaviour, explicitly set `max_features=1.0` or remove this parameter as it is also the default value for RandomForestRegressors and ExtraTreesRegressors.\n",
      "  warn(\n"
     ]
    },
    {
     "data": {
      "text/html": [
       "<style>#sk-container-id-1 {color: black;background-color: white;}#sk-container-id-1 pre{padding: 0;}#sk-container-id-1 div.sk-toggleable {background-color: white;}#sk-container-id-1 label.sk-toggleable__label {cursor: pointer;display: block;width: 100%;margin-bottom: 0;padding: 0.3em;box-sizing: border-box;text-align: center;}#sk-container-id-1 label.sk-toggleable__label-arrow:before {content: \"▸\";float: left;margin-right: 0.25em;color: #696969;}#sk-container-id-1 label.sk-toggleable__label-arrow:hover:before {color: black;}#sk-container-id-1 div.sk-estimator:hover label.sk-toggleable__label-arrow:before {color: black;}#sk-container-id-1 div.sk-toggleable__content {max-height: 0;max-width: 0;overflow: hidden;text-align: left;background-color: #f0f8ff;}#sk-container-id-1 div.sk-toggleable__content pre {margin: 0.2em;color: black;border-radius: 0.25em;background-color: #f0f8ff;}#sk-container-id-1 input.sk-toggleable__control:checked~div.sk-toggleable__content {max-height: 200px;max-width: 100%;overflow: auto;}#sk-container-id-1 input.sk-toggleable__control:checked~label.sk-toggleable__label-arrow:before {content: \"▾\";}#sk-container-id-1 div.sk-estimator input.sk-toggleable__control:checked~label.sk-toggleable__label {background-color: #d4ebff;}#sk-container-id-1 div.sk-label input.sk-toggleable__control:checked~label.sk-toggleable__label {background-color: #d4ebff;}#sk-container-id-1 input.sk-hidden--visually {border: 0;clip: rect(1px 1px 1px 1px);clip: rect(1px, 1px, 1px, 1px);height: 1px;margin: -1px;overflow: hidden;padding: 0;position: absolute;width: 1px;}#sk-container-id-1 div.sk-estimator {font-family: monospace;background-color: #f0f8ff;border: 1px dotted black;border-radius: 0.25em;box-sizing: border-box;margin-bottom: 0.5em;}#sk-container-id-1 div.sk-estimator:hover {background-color: #d4ebff;}#sk-container-id-1 div.sk-parallel-item::after {content: \"\";width: 100%;border-bottom: 1px solid gray;flex-grow: 1;}#sk-container-id-1 div.sk-label:hover label.sk-toggleable__label {background-color: #d4ebff;}#sk-container-id-1 div.sk-serial::before {content: \"\";position: absolute;border-left: 1px solid gray;box-sizing: border-box;top: 0;bottom: 0;left: 50%;z-index: 0;}#sk-container-id-1 div.sk-serial {display: flex;flex-direction: column;align-items: center;background-color: white;padding-right: 0.2em;padding-left: 0.2em;position: relative;}#sk-container-id-1 div.sk-item {position: relative;z-index: 1;}#sk-container-id-1 div.sk-parallel {display: flex;align-items: stretch;justify-content: center;background-color: white;position: relative;}#sk-container-id-1 div.sk-item::before, #sk-container-id-1 div.sk-parallel-item::before {content: \"\";position: absolute;border-left: 1px solid gray;box-sizing: border-box;top: 0;bottom: 0;left: 50%;z-index: -1;}#sk-container-id-1 div.sk-parallel-item {display: flex;flex-direction: column;z-index: 1;position: relative;background-color: white;}#sk-container-id-1 div.sk-parallel-item:first-child::after {align-self: flex-end;width: 50%;}#sk-container-id-1 div.sk-parallel-item:last-child::after {align-self: flex-start;width: 50%;}#sk-container-id-1 div.sk-parallel-item:only-child::after {width: 0;}#sk-container-id-1 div.sk-dashed-wrapped {border: 1px dashed gray;margin: 0 0.4em 0.5em 0.4em;box-sizing: border-box;padding-bottom: 0.4em;background-color: white;}#sk-container-id-1 div.sk-label label {font-family: monospace;font-weight: bold;display: inline-block;line-height: 1.2em;}#sk-container-id-1 div.sk-label-container {text-align: center;}#sk-container-id-1 div.sk-container {/* jupyter's `normalize.less` sets `[hidden] { display: none; }` but bootstrap.min.css set `[hidden] { display: none !important; }` so we also need the `!important` here to be able to override the default hidden behavior on the sphinx rendered scikit-learn.org. See: https://github.com/scikit-learn/scikit-learn/issues/21755 */display: inline-block !important;position: relative;}#sk-container-id-1 div.sk-text-repr-fallback {display: none;}</style><div id=\"sk-container-id-1\" class=\"sk-top-container\"><div class=\"sk-text-repr-fallback\"><pre>RandomizedSearchCV(cv=3,\n",
       "                   estimator=RandomForestRegressor(n_estimators=30,\n",
       "                                                   random_state=0),\n",
       "                   n_iter=20,\n",
       "                   param_distributions={&#x27;bootstrap&#x27;: [True, False],\n",
       "                                        &#x27;max_depth&#x27;: [10, 20, 30, 40, 50, 60,\n",
       "                                                      70, 80, 90, 100, 110],\n",
       "                                        &#x27;max_features&#x27;: [&#x27;auto&#x27;, &#x27;sqrt&#x27;],\n",
       "                                        &#x27;min_samples_leaf&#x27;: [1, 2, 4],\n",
       "                                        &#x27;min_samples_split&#x27;: [2, 5, 10],\n",
       "                                        &#x27;n_estimators&#x27;: array([ 200,  400,  600,  800, 1000, 1200, 1400, 1600, 1800, 2000])})</pre><b>In a Jupyter environment, please rerun this cell to show the HTML representation or trust the notebook. <br />On GitHub, the HTML representation is unable to render, please try loading this page with nbviewer.org.</b></div><div class=\"sk-container\" hidden><div class=\"sk-item sk-dashed-wrapped\"><div class=\"sk-label-container\"><div class=\"sk-label sk-toggleable\"><input class=\"sk-toggleable__control sk-hidden--visually\" id=\"sk-estimator-id-1\" type=\"checkbox\" ><label for=\"sk-estimator-id-1\" class=\"sk-toggleable__label sk-toggleable__label-arrow\">RandomizedSearchCV</label><div class=\"sk-toggleable__content\"><pre>RandomizedSearchCV(cv=3,\n",
       "                   estimator=RandomForestRegressor(n_estimators=30,\n",
       "                                                   random_state=0),\n",
       "                   n_iter=20,\n",
       "                   param_distributions={&#x27;bootstrap&#x27;: [True, False],\n",
       "                                        &#x27;max_depth&#x27;: [10, 20, 30, 40, 50, 60,\n",
       "                                                      70, 80, 90, 100, 110],\n",
       "                                        &#x27;max_features&#x27;: [&#x27;auto&#x27;, &#x27;sqrt&#x27;],\n",
       "                                        &#x27;min_samples_leaf&#x27;: [1, 2, 4],\n",
       "                                        &#x27;min_samples_split&#x27;: [2, 5, 10],\n",
       "                                        &#x27;n_estimators&#x27;: array([ 200,  400,  600,  800, 1000, 1200, 1400, 1600, 1800, 2000])})</pre></div></div></div><div class=\"sk-parallel\"><div class=\"sk-parallel-item\"><div class=\"sk-item\"><div class=\"sk-label-container\"><div class=\"sk-label sk-toggleable\"><input class=\"sk-toggleable__control sk-hidden--visually\" id=\"sk-estimator-id-2\" type=\"checkbox\" ><label for=\"sk-estimator-id-2\" class=\"sk-toggleable__label sk-toggleable__label-arrow\">estimator: RandomForestRegressor</label><div class=\"sk-toggleable__content\"><pre>RandomForestRegressor(n_estimators=30, random_state=0)</pre></div></div></div><div class=\"sk-serial\"><div class=\"sk-item\"><div class=\"sk-estimator sk-toggleable\"><input class=\"sk-toggleable__control sk-hidden--visually\" id=\"sk-estimator-id-3\" type=\"checkbox\" ><label for=\"sk-estimator-id-3\" class=\"sk-toggleable__label sk-toggleable__label-arrow\">RandomForestRegressor</label><div class=\"sk-toggleable__content\"><pre>RandomForestRegressor(n_estimators=30, random_state=0)</pre></div></div></div></div></div></div></div></div></div></div>"
      ],
      "text/plain": [
       "RandomizedSearchCV(cv=3,\n",
       "                   estimator=RandomForestRegressor(n_estimators=30,\n",
       "                                                   random_state=0),\n",
       "                   n_iter=20,\n",
       "                   param_distributions={'bootstrap': [True, False],\n",
       "                                        'max_depth': [10, 20, 30, 40, 50, 60,\n",
       "                                                      70, 80, 90, 100, 110],\n",
       "                                        'max_features': ['auto', 'sqrt'],\n",
       "                                        'min_samples_leaf': [1, 2, 4],\n",
       "                                        'min_samples_split': [2, 5, 10],\n",
       "                                        'n_estimators': array([ 200,  400,  600,  800, 1000, 1200, 1400, 1600, 1800, 2000])})"
      ]
     },
     "execution_count": 290,
     "metadata": {},
     "output_type": "execute_result"
    }
   ],
   "source": [
    "# Take your top performing model and do a randomize search cv with 20 iterations and three folds\n",
    "\n",
    "bootstrap = [True, False]\n",
    "max_depth = [10, 20, 30, 40, 50, 60, 70, 80, 90, 100, 110]\n",
    "max_features = ['auto', 'sqrt']\n",
    "min_samples_split = [2, 5, 10]\n",
    "min_samples_leaf = [1, 2, 4]\n",
    "n_estimators = np.linspace(200, 2000, int((2000-200)/200) + 1, dtype=int)\n",
    "\n",
    "random_grid = {'bootstrap': bootstrap, 'max_depth': max_depth, 'max_features': max_features, \n",
    "               'min_samples_split': min_samples_split, 'min_samples_leaf': min_samples_leaf, 'n_estimators': n_estimators}\n",
    "\n",
    "rf_random = RandomizedSearchCV(estimator = forest, param_distributions = random_grid, n_iter = 20, cv = 3)\n",
    "\n",
    "rf_random.fit(train_features, train_labels)"
   ]
  },
  {
   "cell_type": "code",
   "execution_count": 291,
   "id": "e798c63c",
   "metadata": {},
   "outputs": [
    {
     "data": {
      "text/html": [
       "<style>#sk-container-id-2 {color: black;background-color: white;}#sk-container-id-2 pre{padding: 0;}#sk-container-id-2 div.sk-toggleable {background-color: white;}#sk-container-id-2 label.sk-toggleable__label {cursor: pointer;display: block;width: 100%;margin-bottom: 0;padding: 0.3em;box-sizing: border-box;text-align: center;}#sk-container-id-2 label.sk-toggleable__label-arrow:before {content: \"▸\";float: left;margin-right: 0.25em;color: #696969;}#sk-container-id-2 label.sk-toggleable__label-arrow:hover:before {color: black;}#sk-container-id-2 div.sk-estimator:hover label.sk-toggleable__label-arrow:before {color: black;}#sk-container-id-2 div.sk-toggleable__content {max-height: 0;max-width: 0;overflow: hidden;text-align: left;background-color: #f0f8ff;}#sk-container-id-2 div.sk-toggleable__content pre {margin: 0.2em;color: black;border-radius: 0.25em;background-color: #f0f8ff;}#sk-container-id-2 input.sk-toggleable__control:checked~div.sk-toggleable__content {max-height: 200px;max-width: 100%;overflow: auto;}#sk-container-id-2 input.sk-toggleable__control:checked~label.sk-toggleable__label-arrow:before {content: \"▾\";}#sk-container-id-2 div.sk-estimator input.sk-toggleable__control:checked~label.sk-toggleable__label {background-color: #d4ebff;}#sk-container-id-2 div.sk-label input.sk-toggleable__control:checked~label.sk-toggleable__label {background-color: #d4ebff;}#sk-container-id-2 input.sk-hidden--visually {border: 0;clip: rect(1px 1px 1px 1px);clip: rect(1px, 1px, 1px, 1px);height: 1px;margin: -1px;overflow: hidden;padding: 0;position: absolute;width: 1px;}#sk-container-id-2 div.sk-estimator {font-family: monospace;background-color: #f0f8ff;border: 1px dotted black;border-radius: 0.25em;box-sizing: border-box;margin-bottom: 0.5em;}#sk-container-id-2 div.sk-estimator:hover {background-color: #d4ebff;}#sk-container-id-2 div.sk-parallel-item::after {content: \"\";width: 100%;border-bottom: 1px solid gray;flex-grow: 1;}#sk-container-id-2 div.sk-label:hover label.sk-toggleable__label {background-color: #d4ebff;}#sk-container-id-2 div.sk-serial::before {content: \"\";position: absolute;border-left: 1px solid gray;box-sizing: border-box;top: 0;bottom: 0;left: 50%;z-index: 0;}#sk-container-id-2 div.sk-serial {display: flex;flex-direction: column;align-items: center;background-color: white;padding-right: 0.2em;padding-left: 0.2em;position: relative;}#sk-container-id-2 div.sk-item {position: relative;z-index: 1;}#sk-container-id-2 div.sk-parallel {display: flex;align-items: stretch;justify-content: center;background-color: white;position: relative;}#sk-container-id-2 div.sk-item::before, #sk-container-id-2 div.sk-parallel-item::before {content: \"\";position: absolute;border-left: 1px solid gray;box-sizing: border-box;top: 0;bottom: 0;left: 50%;z-index: -1;}#sk-container-id-2 div.sk-parallel-item {display: flex;flex-direction: column;z-index: 1;position: relative;background-color: white;}#sk-container-id-2 div.sk-parallel-item:first-child::after {align-self: flex-end;width: 50%;}#sk-container-id-2 div.sk-parallel-item:last-child::after {align-self: flex-start;width: 50%;}#sk-container-id-2 div.sk-parallel-item:only-child::after {width: 0;}#sk-container-id-2 div.sk-dashed-wrapped {border: 1px dashed gray;margin: 0 0.4em 0.5em 0.4em;box-sizing: border-box;padding-bottom: 0.4em;background-color: white;}#sk-container-id-2 div.sk-label label {font-family: monospace;font-weight: bold;display: inline-block;line-height: 1.2em;}#sk-container-id-2 div.sk-label-container {text-align: center;}#sk-container-id-2 div.sk-container {/* jupyter's `normalize.less` sets `[hidden] { display: none; }` but bootstrap.min.css set `[hidden] { display: none !important; }` so we also need the `!important` here to be able to override the default hidden behavior on the sphinx rendered scikit-learn.org. See: https://github.com/scikit-learn/scikit-learn/issues/21755 */display: inline-block !important;position: relative;}#sk-container-id-2 div.sk-text-repr-fallback {display: none;}</style><div id=\"sk-container-id-2\" class=\"sk-top-container\"><div class=\"sk-text-repr-fallback\"><pre>RandomForestRegressor(max_depth=90, max_features=&#x27;auto&#x27;, n_estimators=1000,\n",
       "                      random_state=0)</pre><b>In a Jupyter environment, please rerun this cell to show the HTML representation or trust the notebook. <br />On GitHub, the HTML representation is unable to render, please try loading this page with nbviewer.org.</b></div><div class=\"sk-container\" hidden><div class=\"sk-item\"><div class=\"sk-estimator sk-toggleable\"><input class=\"sk-toggleable__control sk-hidden--visually\" id=\"sk-estimator-id-4\" type=\"checkbox\" checked><label for=\"sk-estimator-id-4\" class=\"sk-toggleable__label sk-toggleable__label-arrow\">RandomForestRegressor</label><div class=\"sk-toggleable__content\"><pre>RandomForestRegressor(max_depth=90, max_features=&#x27;auto&#x27;, n_estimators=1000,\n",
       "                      random_state=0)</pre></div></div></div></div></div>"
      ],
      "text/plain": [
       "RandomForestRegressor(max_depth=90, max_features='auto', n_estimators=1000,\n",
       "                      random_state=0)"
      ]
     },
     "execution_count": 291,
     "metadata": {},
     "output_type": "execute_result"
    }
   ],
   "source": [
    "rf_random.best_estimator_"
   ]
  },
  {
   "cell_type": "code",
   "execution_count": 292,
   "id": "432fe6ba",
   "metadata": {},
   "outputs": [
    {
     "data": {
      "text/plain": [
       "{'n_estimators': 1000,\n",
       " 'min_samples_split': 2,\n",
       " 'min_samples_leaf': 1,\n",
       " 'max_features': 'auto',\n",
       " 'max_depth': 90,\n",
       " 'bootstrap': True}"
      ]
     },
     "execution_count": 292,
     "metadata": {},
     "output_type": "execute_result"
    }
   ],
   "source": [
    "rf_random.best_params_"
   ]
  },
  {
   "cell_type": "code",
   "execution_count": 295,
   "id": "6386649e",
   "metadata": {},
   "outputs": [
    {
     "name": "stderr",
     "output_type": "stream",
     "text": [
      "/mnt/c/users/rainb/desktop/scripts/COMP4447/dst1_env/lib/python3.8/site-packages/sklearn/ensemble/_forest.py:416: FutureWarning: `max_features='auto'` has been deprecated in 1.1 and will be removed in 1.3. To keep the past behaviour, explicitly set `max_features=1.0` or remove this parameter as it is also the default value for RandomForestRegressors and ExtraTreesRegressors.\n",
      "  warn(\n",
      "/mnt/c/users/rainb/desktop/scripts/COMP4447/dst1_env/lib/python3.8/site-packages/sklearn/ensemble/_forest.py:416: FutureWarning: `max_features='auto'` has been deprecated in 1.1 and will be removed in 1.3. To keep the past behaviour, explicitly set `max_features=1.0` or remove this parameter as it is also the default value for RandomForestRegressors and ExtraTreesRegressors.\n",
      "  warn(\n",
      "/mnt/c/users/rainb/desktop/scripts/COMP4447/dst1_env/lib/python3.8/site-packages/sklearn/ensemble/_forest.py:416: FutureWarning: `max_features='auto'` has been deprecated in 1.1 and will be removed in 1.3. To keep the past behaviour, explicitly set `max_features=1.0` or remove this parameter as it is also the default value for RandomForestRegressors and ExtraTreesRegressors.\n",
      "  warn(\n",
      "/mnt/c/users/rainb/desktop/scripts/COMP4447/dst1_env/lib/python3.8/site-packages/sklearn/ensemble/_forest.py:416: FutureWarning: `max_features='auto'` has been deprecated in 1.1 and will be removed in 1.3. To keep the past behaviour, explicitly set `max_features=1.0` or remove this parameter as it is also the default value for RandomForestRegressors and ExtraTreesRegressors.\n",
      "  warn(\n",
      "/mnt/c/users/rainb/desktop/scripts/COMP4447/dst1_env/lib/python3.8/site-packages/sklearn/ensemble/_forest.py:416: FutureWarning: `max_features='auto'` has been deprecated in 1.1 and will be removed in 1.3. To keep the past behaviour, explicitly set `max_features=1.0` or remove this parameter as it is also the default value for RandomForestRegressors and ExtraTreesRegressors.\n",
      "  warn(\n",
      "/mnt/c/users/rainb/desktop/scripts/COMP4447/dst1_env/lib/python3.8/site-packages/sklearn/ensemble/_forest.py:416: FutureWarning: `max_features='auto'` has been deprecated in 1.1 and will be removed in 1.3. To keep the past behaviour, explicitly set `max_features=1.0` or remove this parameter as it is also the default value for RandomForestRegressors and ExtraTreesRegressors.\n",
      "  warn(\n",
      "/mnt/c/users/rainb/desktop/scripts/COMP4447/dst1_env/lib/python3.8/site-packages/sklearn/ensemble/_forest.py:416: FutureWarning: `max_features='auto'` has been deprecated in 1.1 and will be removed in 1.3. To keep the past behaviour, explicitly set `max_features=1.0` or remove this parameter as it is also the default value for RandomForestRegressors and ExtraTreesRegressors.\n",
      "  warn(\n",
      "/mnt/c/users/rainb/desktop/scripts/COMP4447/dst1_env/lib/python3.8/site-packages/sklearn/ensemble/_forest.py:416: FutureWarning: `max_features='auto'` has been deprecated in 1.1 and will be removed in 1.3. To keep the past behaviour, explicitly set `max_features=1.0` or remove this parameter as it is also the default value for RandomForestRegressors and ExtraTreesRegressors.\n",
      "  warn(\n",
      "/mnt/c/users/rainb/desktop/scripts/COMP4447/dst1_env/lib/python3.8/site-packages/sklearn/ensemble/_forest.py:416: FutureWarning: `max_features='auto'` has been deprecated in 1.1 and will be removed in 1.3. To keep the past behaviour, explicitly set `max_features=1.0` or remove this parameter as it is also the default value for RandomForestRegressors and ExtraTreesRegressors.\n",
      "  warn(\n",
      "/mnt/c/users/rainb/desktop/scripts/COMP4447/dst1_env/lib/python3.8/site-packages/sklearn/ensemble/_forest.py:416: FutureWarning: `max_features='auto'` has been deprecated in 1.1 and will be removed in 1.3. To keep the past behaviour, explicitly set `max_features=1.0` or remove this parameter as it is also the default value for RandomForestRegressors and ExtraTreesRegressors.\n",
      "  warn(\n",
      "/mnt/c/users/rainb/desktop/scripts/COMP4447/dst1_env/lib/python3.8/site-packages/sklearn/ensemble/_forest.py:416: FutureWarning: `max_features='auto'` has been deprecated in 1.1 and will be removed in 1.3. To keep the past behaviour, explicitly set `max_features=1.0` or remove this parameter as it is also the default value for RandomForestRegressors and ExtraTreesRegressors.\n",
      "  warn(\n"
     ]
    },
    {
     "name": "stdout",
     "output_type": "stream",
     "text": [
      "\n",
      "Scores: [0.29508747 0.26577747 0.2854919  0.29057169 0.27157081 0.30525633\n",
      " 0.28190049 0.28735093 0.30689579 0.28461015]\n",
      "\n",
      "Mean: 0.2874513035065983\n",
      "SD: 0.012360554426008752\n"
     ]
    }
   ],
   "source": [
    "# Take your best_estimator_ and see how it compares by doing cross_vals for r2, mse, and calculating rmse.\n",
    "bestEst = RandomForestRegressor(max_depth=90, max_features='auto', n_estimators=1000, random_state=0)\n",
    "bestEst.fit(train_features, train_labels)\n",
    "\n",
    "bestEst_scores = cross_val_score(bestEst, train_features, train_labels, scoring = 'neg_mean_squared_error', cv = 10)\n",
    "\n",
    "bestEst_rmse_scores = np.sqrt(-bestEst_scores)\n",
    "print('\\nScores:', bestEst_rmse_scores)\n",
    "\n",
    "print('\\nMean:', bestEst_rmse_scores.mean())\n",
    "print('SD:', bestEst_rmse_scores.std())"
   ]
  },
  {
   "cell_type": "code",
   "execution_count": 303,
   "id": "05bdc778",
   "metadata": {},
   "outputs": [
    {
     "name": "stderr",
     "output_type": "stream",
     "text": [
      "/mnt/c/users/rainb/desktop/scripts/COMP4447/dst1_env/lib/python3.8/site-packages/sklearn/ensemble/_forest.py:416: FutureWarning: `max_features='auto'` has been deprecated in 1.1 and will be removed in 1.3. To keep the past behaviour, explicitly set `max_features=1.0` or remove this parameter as it is also the default value for RandomForestRegressors and ExtraTreesRegressors.\n",
      "  warn(\n"
     ]
    },
    {
     "name": "stdout",
     "output_type": "stream",
     "text": [
      "MSE:  0.014897922909114455\n",
      "RMSE:  0.12205704776502853\n",
      "r2:  0.9852322319034377\n"
     ]
    }
   ],
   "source": [
    "# Finally, run predictions on your test set with this model, and see how your r2 score and RMSE look.\n",
    "bestEst.fit(test_features, test_labels)\n",
    "bestEstPreds = bestEst.predict(test_features)\n",
    "\n",
    "mse = mean_squared_error(test_labels, bestEstPreds)\n",
    "rmse = np.sqrt(mse)\n",
    "print('MSE: ', mse)\n",
    "print('RMSE: ', rmse)\n",
    "\n",
    "r2 = r2_score(test_labels, bestEstPreds)\n",
    "print('r2: ', r2)"
   ]
  }
 ],
 "metadata": {
  "kernelspec": {
   "display_name": "Python 3 (ipykernel)",
   "language": "python",
   "name": "python3"
  },
  "language_info": {
   "codemirror_mode": {
    "name": "ipython",
    "version": 3
   },
   "file_extension": ".py",
   "mimetype": "text/x-python",
   "name": "python",
   "nbconvert_exporter": "python",
   "pygments_lexer": "ipython3",
   "version": "3.8.10"
  }
 },
 "nbformat": 4,
 "nbformat_minor": 5
}
